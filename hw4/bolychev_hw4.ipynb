{
 "cells": [
  {
   "cell_type": "markdown",
   "metadata": {},
   "source": [
    "# Алгоритмы интеллектуальной обработки больших объемов данных\n",
    "## Домашнее задание №4 - Метод k-средних, предобработка признаков\n"
   ]
  },
  {
   "cell_type": "markdown",
   "metadata": {},
   "source": [
    "###### <hr\\>\n",
    "**Общая информация**\n",
    "\n",
    "**Срок сдачи:** 25 апреля 2018, 06:00 <br\\>\n",
    "**Штраф за опоздание:** -2 балла после 06:00 25 апреля, -4 баллов после 06:00 2 мая, -6 баллов после 06:00 9 мая\n",
    "\n",
    "При отправлении ДЗ указывайте фамилию в названии файла<br\\>\n",
    "\n",
    "Используйте данный Ipython Notebook при оформлении домашнего задания.\n",
    "\n",
    "**Штрафные баллы:**\n",
    "\n",
    "1. Невыполнение PEP8 -1 балл\n",
    "2. Отсутствие фамилии в имени скрипта (скрипт должен называться по аналогии со stroykova_hw4.ipynb) -1 балл\n",
    "3. Все строчки должны быть выполнены. Нужно, чтобы output команды можно было увидеть уже в git'е. В противном случае -1 балл\n",
    "4. При оформлении ДЗ нужно пользоваться данным файлом в качестве шаблона. Не нужно удалять и видоизменять написанный код и текст. В противном случае -1 балл\n",
    "<hr\\>"
   ]
  },
  {
   "cell_type": "code",
   "execution_count": 198,
   "metadata": {},
   "outputs": [
    {
     "name": "stdout",
     "output_type": "stream",
     "text": [
      "The pycodestyle_magic extension is already loaded. To reload it, use:\n",
      "  %reload_ext pycodestyle_magic\n"
     ]
    }
   ],
   "source": [
    "import pandas as pd\n",
    "import numpy as np\n",
    "import matplotlib.pyplot as plt\n",
    "\n",
    "%matplotlib inline\n",
    "\n",
    "plt.style.use('ggplot')\n",
    "plt.rcParams['figure.figsize'] = (12,5)\n",
    "\n",
    "%load_ext pycodestyle_magic"
   ]
  },
  {
   "cell_type": "markdown",
   "metadata": {},
   "source": [
    "# Имплементация K-means\n",
    "\n",
    "Пользуясь наработками выше, имплементируйте метод k-means.  \n",
    "При инициализации необходимо задавать количество кластеров, функцию расстояния между кластерами (для оригинального k-means - евклидово расстояние) и начальное состояние генератора случайных чисел.\n",
    "\n",
    "После обучения, среди атрибутов класса `Kmeans` должны появится\n",
    "* Метки кластеров для объектов\n",
    "* Координаты центройдов кластеров\n",
    "\n",
    "k-means - это алгоритм **кластеризации**, а не классификации, а посему метод `.predict()` в нем фактически не нужен, но он может возвращать метки ближайшего кластера для объектов."
   ]
  },
  {
   "cell_type": "markdown",
   "metadata": {},
   "source": [
    "###### Задание 1 (2 баллов)\n",
    "Имплементируйте метод k-means. Задание считается выполненным, если Ваша реализация работает быстрее реализации из sklearn.\n",
    "\n",
    "Теория для выполнения задания 2 и 3 остаётся на самостоятельное изучение. Теории немного и она совсем простая.\n",
    "\n",
    "###### Задание 2 (2 балла)\n",
    "Имплементируйте класс MiniBatchKMeans, который является классом наследником Kmeans.\n",
    "\n",
    "###### Задание 3 (2 балла)\n",
    "Превратите k-means в k-means++. Для этого нужно реализовать метод в классе Kmeans, который будет инициализировать более \"хорошие\" значения центроидов. Чтобы использовался метод k-means++, в параметр init необходимо передать строковое значение 'k-means' (по умолчанию 'random').\n",
    "\n",
    "###### Задание 4 (2 балла)\n",
    "В пункте \"Проверка корректности метода\" нужно нарисовать графики, которые показывают зависимость времени выполнения алгоритма от количества сэмплов. Графики должны быть  нарисованы для различных комбинаций реализаций алгоритма (k-means, k-means++, k-means с MiniBatchKMeans, k-means++ с MiniBatchKMeans). График достаточно построить на 5-10 точках.\n",
    "\n",
    "###### Задание 5 (2 балла)\n",
    "В пункте \"Применение K-means на реальных данных\" нужно сравнить различные реализации k-means (k-means, k-means++, k-means с MiniBatchKMeans, k-means++ с MiniBatchKMeans). После чего написать вывод, в котором должно быть объяснение того, почему один алгоритм оказался лучше остальных или почему не было выявлено лучшего алгоритма."
   ]
  },
  {
   "cell_type": "code",
   "execution_count": 816,
   "metadata": {},
   "outputs": [],
   "source": [
    "#%%pycodestyle\n",
    "from scipy.spatial.distance import cdist\n",
    "\n",
    "\n",
    "class MyKmeans:\n",
    "\n",
    "    def __init__(self, k=2, metric='euclidean',\n",
    "                 max_iter=1000, random_state=None, init='random'):\n",
    "        \"\"\"\n",
    "        Инициализация метода\n",
    "        :k - количество кластеров\n",
    "        :metric - функция расстояния между объектами\n",
    "        :max_iter - максиальное количество итераций\n",
    "        :random_state - seed для инициализации генератора случайных чисел\n",
    "        \"\"\"\n",
    "\n",
    "        self.k = k\n",
    "        self.random_state = random_state\n",
    "        self.metric = metric\n",
    "        self.max_iter = max_iter\n",
    "        self.init = init\n",
    "\n",
    "    def kmeans_pp(self, X, y=None):\n",
    "        self.centroids[0] = X[np.random.randint(0, X.shape[0], size=None)]\n",
    "        centroid_ids = np.zeros(self.k, dtype=int)\n",
    "        for i in range(1, 1 + self.k):\n",
    "            pair_d = cdist(X, self.centroids[:i])\n",
    "            nearest_centroid_ids = np.argmin(pair_d, axis=1)\n",
    "            nearest_centroid_dists = np.amin(pair_d, axis=1)\n",
    "            dists_cumsum = np.cumsum(nearest_centroid_dists)\n",
    "            sum_value = np.random.rand(1)[0] * dists_cumsum[-1]\n",
    "            centroid_ids[i-1] = np.argmax(dists_cumsum[\n",
    "                                        dists_cumsum >= sum_value])\n",
    "        self.centroids = X[centroid_ids]\n",
    "        self.labels = np.random.randint(low=0, high=self.k, size=X.shape[0])\n",
    "        self.labels[centroid_ids] = np.arange(self.k)\n",
    "\n",
    "    def fit(self, X, y=None):\n",
    "        \"\"\"\n",
    "        Процедура обучения k-means\n",
    "        \"\"\"\n",
    "\n",
    "        # Инициализация генератора случайных чисел\n",
    "        np.random.seed(self.random_state)\n",
    "\n",
    "        # Массив с метками кластеров для каждого объекта из X\n",
    "        self.labels = np.empty(X.shape[0])\n",
    "\n",
    "        # Массив с центройдами кластеров\n",
    "        self.centroids = np.empty((self.k, X.shape[1]))\n",
    "\n",
    "        # Your Code Here\n",
    "        # ...\n",
    "        if self.init == 'random':\n",
    "            self.centroids = np.random.rand(self.k, X.shape[1])\n",
    "            self.labels = np.random.randint(low=0,\n",
    "                                            high=self.k, size=X.shape[0])\n",
    "        elif self.init == 'k-means':\n",
    "            self.kmeans_pp(X)\n",
    "        else:\n",
    "            raise Exception('Wrong method')\n",
    "        centroids = np.ones((self.k, X.shape[1]))\n",
    "        for i in range(self.max_iter):\n",
    "            pair_d = cdist(X, self.centroids)\n",
    "            self.labels = np.argmin(pair_d, axis=1)\n",
    "\n",
    "            for i in range(self.k):\n",
    "                mean_matrix = X[self.labels == i, :]\n",
    "                if mean_matrix.shape[0] > 0:\n",
    "                    self.centroids[i, :] = np.mean(X[self.labels == i, :],\n",
    "                                                   axis=0)\n",
    "            if np.allclose(centroids, self.centroids, rtol=1e-05, atol=1e-1):\n",
    "                break\n",
    "            centroids = np.copy(self.centroids)\n",
    "\n",
    "        return self\n",
    "\n",
    "    def predict(self, X, y=None):\n",
    "        \"\"\"\n",
    "        Процедура предсказания кластера\n",
    "\n",
    "        Возвращает метку ближайшего кластера для каждого объекта\n",
    "        \"\"\"\n",
    "        pair_d = cdist(X, self.centroids)\n",
    "        labels = np.argmin(pair_d, axis=1)\n",
    "\n",
    "        return labels\n",
    "\n",
    "\n",
    "class MiniBatchKMeans(MyKmeans):\n",
    "    def __init__(self, k=2, metric='euclidean',\n",
    "                 max_iter=1000, batch_size=10,\n",
    "                 random_state=None, init='random'):\n",
    "        \"\"\"\n",
    "        Инициализация метода\n",
    "        :k - количество кластеров\n",
    "        :metric - функция расстояния между объектами\n",
    "        :max_iter - максиальное количество итераций\n",
    "        :random_state - seed для инициализации генератора случайных чисел\n",
    "        \"\"\"\n",
    "\n",
    "        self.k = k\n",
    "        self.random_state = random_state\n",
    "        self.metric = metric\n",
    "        self.max_iter = max_iter\n",
    "        self.init = init\n",
    "        self.batch_size = batch_size\n",
    "\n",
    "    def fit(self, X, y=None):\n",
    "        \"\"\"\n",
    "        Процедура обучения k-means\n",
    "        \"\"\"\n",
    "\n",
    "        # Инициализация генератора случайных чисел\n",
    "        np.random.seed(self.random_state)\n",
    "\n",
    "        # Массив с метками кластеров для каждого объекта из X\n",
    "        self.labels = np.empty(X.shape[0])\n",
    "\n",
    "        # Массив с центройдами кластеров\n",
    "        self.centroids = np.empty((self.k, X.shape[1]))\n",
    "        if self.init == 'random':\n",
    "            self.centroids = np.random.rand(self.k, X.shape[1])\n",
    "            self.labels = np.random.randint(low=0, high=self.k,\n",
    "                                            size=X.shape[0])\n",
    "        elif self.init == 'k-means':\n",
    "            self.kmeans_pp(X)\n",
    "        else:\n",
    "            raise Exception('Wrong method')\n",
    "\n",
    "        v = np.zeros(self.k)\n",
    "        centroids = np.ones((self.k, X.shape[1]))\n",
    "        for iteration in range(self.max_iter):\n",
    "            M = X[np.random.choice(X.shape[0],\n",
    "                                   self.batch_size,\n",
    "                                   replace=False)]\n",
    "            pair_d = cdist(M, self.centroids)\n",
    "            nearest_centoids_ids = np.argmin(pair_d, axis=1)\n",
    "\n",
    "            for i, x in enumerate(M):\n",
    "                v[nearest_centoids_ids[i]] += 1\n",
    "                eta = 1 / v[nearest_centoids_ids[i]]\n",
    "                self.centroids[nearest_centoids_ids[i]] =\\\n",
    "                    (1 - eta) * self.centroids[nearest_centoids_ids[i]] +\\\n",
    "                    eta * x\n",
    "\n",
    "            if np.linalg.norm(centroids - self.centroids) < 1e-1:\n",
    "                break\n",
    "            centroids = np.copy(self.centroids)\n",
    "\n",
    "        pair_d = cdist(X, self.centroids)\n",
    "        self.labels = np.argmin(pair_d, axis=1)\n",
    "\n",
    "        return self"
   ]
  },
  {
   "cell_type": "markdown",
   "metadata": {},
   "source": [
    "### Проверка корректности метода\n",
    "\n",
    "Перед тем как применять алгоритм на реальных данных, нужно испытать его на простых \"игрушечных\" данных.\n",
    "\n",
    "Если алгоритм реализован правильно, то метод должен идеально разбивать на 3 кластера данные ниже. Проверьте это.\n",
    "\n",
    "ВНИМАНИЕ! Проверка должна быть осуществлена на всех реализациях, иначе реализация не будет зачтена!"
   ]
  },
  {
   "cell_type": "code",
   "execution_count": 817,
   "metadata": {
    "collapsed": true
   },
   "outputs": [],
   "source": [
    "from sklearn.datasets import make_blobs"
   ]
  },
  {
   "cell_type": "code",
   "execution_count": 818,
   "metadata": {
    "collapsed": true
   },
   "outputs": [],
   "source": [
    "X, y = make_blobs(n_samples=100, n_features=2, centers=3, cluster_std=1, \n",
    "           center_box=(-10.0, 10.0), shuffle=False, random_state=1234)"
   ]
  },
  {
   "cell_type": "code",
   "execution_count": 819,
   "metadata": {
    "collapsed": true
   },
   "outputs": [],
   "source": [
    "n_clusters = 3"
   ]
  },
  {
   "cell_type": "markdown",
   "metadata": {},
   "source": [
    "Проверьте Вашу имплементацию на простых данных (без этого пункта ДЗ не считается выполненным).   \n",
    "КОММЕНТАРИИ НЕ СТИРАТЬ!"
   ]
  },
  {
   "cell_type": "code",
   "execution_count": 820,
   "metadata": {},
   "outputs": [
    {
     "data": {
      "text/plain": [
       "<matplotlib.collections.PathCollection at 0x1a2c18deb8>"
      ]
     },
     "execution_count": 820,
     "metadata": {},
     "output_type": "execute_result"
    },
    {
     "data": {
      "image/png": "[encoded data removed]",
      "text/plain": [
       "<matplotlib.figure.Figure at 0x1a2c5b4b00>"
      ]
     },
     "metadata": {},
     "output_type": "display_data"
    }
   ],
   "source": [
    "## Работоспособность MyKmeans\n",
    "clf = MyKmeans(k=n_clusters, max_iter=1000)\n",
    "clf.fit(X)\n",
    "plt.scatter(X[:,0], X[:, 1], c=y)\n",
    "plt.scatter(clf.centroids[:, 0], clf.centroids[:, 1])"
   ]
  },
  {
   "cell_type": "code",
   "execution_count": 822,
   "metadata": {},
   "outputs": [
    {
     "data": {
      "text/plain": [
       "<matplotlib.collections.PathCollection at 0x1a2c76e550>"
      ]
     },
     "execution_count": 822,
     "metadata": {},
     "output_type": "execute_result"
    },
    {
     "data": {
      "image/png": "[encoded data removed]",
      "text/plain": [
       "<matplotlib.figure.Figure at 0x1a2c122ef0>"
      ]
     },
     "metadata": {},
     "output_type": "display_data"
    }
   ],
   "source": [
    "## Работоспособность MyKmeans++\n",
    "clf = MyKmeans(k=n_clusters, max_iter=1000, init = 'k-means')\n",
    "clf.fit(X)\n",
    "plt.scatter(X[:,0], X[:, 1], c=y)\n",
    "plt.scatter(clf.centroids[:, 0], clf.centroids[:, 1])"
   ]
  },
  {
   "cell_type": "code",
   "execution_count": 823,
   "metadata": {},
   "outputs": [
    {
     "data": {
      "text/plain": [
       "<matplotlib.collections.PathCollection at 0x1a279c35c0>"
      ]
     },
     "execution_count": 823,
     "metadata": {},
     "output_type": "execute_result"
    },
    {
     "data": {
      "image/png": "[encoded data removed]",
      "text/plain": [
       "<matplotlib.figure.Figure at 0x1a2c76e1d0>"
      ]
     },
     "metadata": {},
     "output_type": "display_data"
    }
   ],
   "source": [
    "## Работоспособность MyKmeans с MiniBatchMyKmeans\n",
    "clf = MiniBatchKMeans(k=n_clusters, max_iter=2000)\n",
    "clf.fit(X)\n",
    "plt.scatter(X[:,0], X[:, 1], c=y)\n",
    "plt.scatter(clf.centroids[:, 0], clf.centroids[:, 1])"
   ]
  },
  {
   "cell_type": "code",
   "execution_count": 825,
   "metadata": {},
   "outputs": [
    {
     "data": {
      "text/plain": [
       "<matplotlib.collections.PathCollection at 0x1a2c04b5f8>"
      ]
     },
     "execution_count": 825,
     "metadata": {},
     "output_type": "execute_result"
    },
    {
     "data": {
      "image/png": "[encoded data removed]",
      "text/plain": [
       "<matplotlib.figure.Figure at 0x1a2c1224a8>"
      ]
     },
     "metadata": {},
     "output_type": "display_data"
    }
   ],
   "source": [
    "## Работоспособность MyKmeans++ с MiniBatchMyKmeans\n",
    "clf = MiniBatchKMeans(k=n_clusters, max_iter=1000, init='k-means')\n",
    "clf.fit(X)\n",
    "plt.scatter(X[:,0], X[:, 1], c=y)\n",
    "plt.scatter(clf.centroids[:, 0], clf.centroids[:, 1])"
   ]
  },
  {
   "cell_type": "code",
   "execution_count": 540,
   "metadata": {},
   "outputs": [],
   "source": [
    "## Время выполнения алгоритма Kmeans из sklearn"
   ]
  },
  {
   "cell_type": "code",
   "execution_count": 826,
   "metadata": {
    "collapsed": true
   },
   "outputs": [],
   "source": [
    "from sklearn.cluster import KMeans"
   ]
  },
  {
   "cell_type": "code",
   "execution_count": 827,
   "metadata": {},
   "outputs": [
    {
     "name": "stdout",
     "output_type": "stream",
     "text": [
      "100 loops, best of 3: 10.6 ms per loop\n"
     ]
    }
   ],
   "source": [
    "%%timeit \n",
    "clf = KMeans(n_clusters, max_iter=1000)\n",
    "clf.fit(X)"
   ]
  },
  {
   "cell_type": "code",
   "execution_count": 828,
   "metadata": {},
   "outputs": [],
   "source": [
    "## Время выполнения алгоритма MyKmeans"
   ]
  },
  {
   "cell_type": "code",
   "execution_count": 829,
   "metadata": {},
   "outputs": [
    {
     "name": "stdout",
     "output_type": "stream",
     "text": [
      "100 loops, best of 3: 5.01 ms per loop\n"
     ]
    }
   ],
   "source": [
    "%%timeit \n",
    "clf = MyKmeans(k=n_clusters, max_iter=1000)\n",
    "clf.fit(X)"
   ]
  },
  {
   "cell_type": "code",
   "execution_count": 830,
   "metadata": {},
   "outputs": [],
   "source": [
    "## Время выполнения алгоритма MyKmeans++"
   ]
  },
  {
   "cell_type": "code",
   "execution_count": 831,
   "metadata": {},
   "outputs": [
    {
     "name": "stdout",
     "output_type": "stream",
     "text": [
      "100 loops, best of 3: 5.49 ms per loop\n"
     ]
    }
   ],
   "source": [
    "%%timeit \n",
    "clf = MyKmeans(k=n_clusters, max_iter=1000, init='k-means')\n",
    "clf.fit(X)"
   ]
  },
  {
   "cell_type": "code",
   "execution_count": 832,
   "metadata": {
    "collapsed": true
   },
   "outputs": [],
   "source": [
    "## Время выполнения алгоритма MyKmeans с MiniBatchMyKmeans"
   ]
  },
  {
   "cell_type": "code",
   "execution_count": 833,
   "metadata": {},
   "outputs": [
    {
     "name": "stdout",
     "output_type": "stream",
     "text": [
      "100 loops, best of 3: 6.24 ms per loop\n"
     ]
    }
   ],
   "source": [
    "%%timeit \n",
    "clf = MiniBatchKMeans(k=n_clusters, max_iter=1000)\n",
    "clf.fit(X)"
   ]
  },
  {
   "cell_type": "code",
   "execution_count": 834,
   "metadata": {
    "collapsed": true
   },
   "outputs": [],
   "source": [
    "## Время выполнения алгоритма  MyKmeans++ с MiniBatchMyKmeans"
   ]
  },
  {
   "cell_type": "code",
   "execution_count": 835,
   "metadata": {},
   "outputs": [
    {
     "name": "stdout",
     "output_type": "stream",
     "text": [
      "100 loops, best of 3: 6.31 ms per loop\n"
     ]
    }
   ],
   "source": [
    "%%timeit \n",
    "clf = MiniBatchKMeans(k=n_clusters, max_iter=1000, init='k-means')\n",
    "clf.fit(X)"
   ]
  },
  {
   "cell_type": "code",
   "execution_count": 837,
   "metadata": {
    "collapsed": true
   },
   "outputs": [],
   "source": [
    "def fit_model(model):\n",
    "    model.fit(X)"
   ]
  },
  {
   "cell_type": "code",
   "execution_count": 846,
   "metadata": {},
   "outputs": [
    {
     "data": {
      "image/png": "[encoded data removed]",
      "text/plain": [
       "<matplotlib.figure.Figure at 0x1a26d27160>"
      ]
     },
     "metadata": {},
     "output_type": "display_data"
    }
   ],
   "source": [
    "import timeit, functools\n",
    "\n",
    "n = np.linspace(100, 5000, 10, dtype=int)\n",
    "algs = ['sklearn', 'k-means', 'k-means++', 'MiniBatch', 'MiniBatch++']\n",
    "time = [[], [], [], [], []]\n",
    "n_clusters = 3\n",
    "\n",
    "models = [KMeans(n_clusters=n_clusters),\n",
    "          MyKmeans(k=n_clusters),\n",
    "          MyKmeans(k=n_clusters, init='k-means'),\n",
    "          MiniBatchKMeans(k=n_clusters),\n",
    "          MiniBatchKMeans(k=n_clusters, init='k-means')]\n",
    "\n",
    "timeit_launch = 10\n",
    "\n",
    "for n_samples in n:\n",
    "    X, y = make_blobs(n_samples=n_samples, n_features=2, centers=3, cluster_std=1, \n",
    "               center_box=(-10.0, 10.0), shuffle=False, random_state=1234)\n",
    "\n",
    "    for i, model in enumerate(models):\n",
    "        t = timeit.Timer(functools.partial(fit_model, model)) \n",
    "        time[i].append(t.timeit(timeit_launch))\n",
    "\n",
    "for i,alg in enumerate(algs):\n",
    "    plt.plot(n, time[i], label=alg)\n",
    "\n",
    "plt.xlabel('sample size')\n",
    "plt.ylabel('seconds')\n",
    "plt.legend()\n",
    "plt.show()"
   ]
  },
  {
   "cell_type": "markdown",
   "metadata": {},
   "source": [
    "# Применение K-means на реальных данных"
   ]
  },
  {
   "cell_type": "markdown",
   "metadata": {},
   "source": [
    "Загрузите [данные](https://github.com/brenden17/sklearnlab/blob/master/facebook/snsdata.csv) в которых содержится описание интересов профилей учеников старшей школы США.  (без этого пункта задание не считается выполненным).   \n",
    "ВНИМАНИЕ! Проверка должна быть осуществлена на всех реализациях, иначе реализация не будет зачтена!"
   ]
  },
  {
   "cell_type": "code",
   "execution_count": 667,
   "metadata": {
    "scrolled": true
   },
   "outputs": [
    {
     "data": {
      "text/html": [
       "<div>\n",
       "<style>\n",
       "    .dataframe thead tr:only-child th {\n",
       "        text-align: right;\n",
       "    }\n",
       "\n",
       "    .dataframe thead th {\n",
       "        text-align: left;\n",
       "    }\n",
       "\n",
       "    .dataframe tbody tr th {\n",
       "        vertical-align: top;\n",
       "    }\n",
       "</style>\n",
       "<table border=\"1\" class=\"dataframe\">\n",
       "  <thead>\n",
       "    <tr style=\"text-align: right;\">\n",
       "      <th></th>\n",
       "      <th>gradyear</th>\n",
       "      <th>gender</th>\n",
       "      <th>age</th>\n",
       "      <th>friends</th>\n",
       "      <th>basketball</th>\n",
       "      <th>football</th>\n",
       "      <th>soccer</th>\n",
       "      <th>softball</th>\n",
       "      <th>volleyball</th>\n",
       "      <th>swimming</th>\n",
       "      <th>...</th>\n",
       "      <th>blonde</th>\n",
       "      <th>mall</th>\n",
       "      <th>shopping</th>\n",
       "      <th>clothes</th>\n",
       "      <th>hollister</th>\n",
       "      <th>abercrombie</th>\n",
       "      <th>die</th>\n",
       "      <th>death</th>\n",
       "      <th>drunk</th>\n",
       "      <th>drugs</th>\n",
       "    </tr>\n",
       "  </thead>\n",
       "  <tbody>\n",
       "    <tr>\n",
       "      <th>0</th>\n",
       "      <td>2006</td>\n",
       "      <td>M</td>\n",
       "      <td>18.982</td>\n",
       "      <td>7</td>\n",
       "      <td>0</td>\n",
       "      <td>0</td>\n",
       "      <td>0</td>\n",
       "      <td>0</td>\n",
       "      <td>0</td>\n",
       "      <td>0</td>\n",
       "      <td>...</td>\n",
       "      <td>0</td>\n",
       "      <td>0</td>\n",
       "      <td>0</td>\n",
       "      <td>0</td>\n",
       "      <td>0</td>\n",
       "      <td>0</td>\n",
       "      <td>0</td>\n",
       "      <td>0</td>\n",
       "      <td>0</td>\n",
       "      <td>0</td>\n",
       "    </tr>\n",
       "    <tr>\n",
       "      <th>1</th>\n",
       "      <td>2006</td>\n",
       "      <td>F</td>\n",
       "      <td>18.801</td>\n",
       "      <td>0</td>\n",
       "      <td>0</td>\n",
       "      <td>1</td>\n",
       "      <td>0</td>\n",
       "      <td>0</td>\n",
       "      <td>0</td>\n",
       "      <td>0</td>\n",
       "      <td>...</td>\n",
       "      <td>0</td>\n",
       "      <td>1</td>\n",
       "      <td>0</td>\n",
       "      <td>0</td>\n",
       "      <td>0</td>\n",
       "      <td>0</td>\n",
       "      <td>0</td>\n",
       "      <td>0</td>\n",
       "      <td>0</td>\n",
       "      <td>0</td>\n",
       "    </tr>\n",
       "    <tr>\n",
       "      <th>2</th>\n",
       "      <td>2006</td>\n",
       "      <td>M</td>\n",
       "      <td>18.335</td>\n",
       "      <td>69</td>\n",
       "      <td>0</td>\n",
       "      <td>1</td>\n",
       "      <td>0</td>\n",
       "      <td>0</td>\n",
       "      <td>0</td>\n",
       "      <td>0</td>\n",
       "      <td>...</td>\n",
       "      <td>0</td>\n",
       "      <td>0</td>\n",
       "      <td>0</td>\n",
       "      <td>0</td>\n",
       "      <td>0</td>\n",
       "      <td>0</td>\n",
       "      <td>0</td>\n",
       "      <td>1</td>\n",
       "      <td>0</td>\n",
       "      <td>0</td>\n",
       "    </tr>\n",
       "    <tr>\n",
       "      <th>3</th>\n",
       "      <td>2006</td>\n",
       "      <td>F</td>\n",
       "      <td>18.875</td>\n",
       "      <td>0</td>\n",
       "      <td>0</td>\n",
       "      <td>0</td>\n",
       "      <td>0</td>\n",
       "      <td>0</td>\n",
       "      <td>0</td>\n",
       "      <td>0</td>\n",
       "      <td>...</td>\n",
       "      <td>0</td>\n",
       "      <td>0</td>\n",
       "      <td>0</td>\n",
       "      <td>0</td>\n",
       "      <td>0</td>\n",
       "      <td>0</td>\n",
       "      <td>0</td>\n",
       "      <td>0</td>\n",
       "      <td>0</td>\n",
       "      <td>0</td>\n",
       "    </tr>\n",
       "    <tr>\n",
       "      <th>4</th>\n",
       "      <td>2006</td>\n",
       "      <td>NaN</td>\n",
       "      <td>18.995</td>\n",
       "      <td>10</td>\n",
       "      <td>0</td>\n",
       "      <td>0</td>\n",
       "      <td>0</td>\n",
       "      <td>0</td>\n",
       "      <td>0</td>\n",
       "      <td>0</td>\n",
       "      <td>...</td>\n",
       "      <td>0</td>\n",
       "      <td>0</td>\n",
       "      <td>2</td>\n",
       "      <td>0</td>\n",
       "      <td>0</td>\n",
       "      <td>0</td>\n",
       "      <td>0</td>\n",
       "      <td>0</td>\n",
       "      <td>1</td>\n",
       "      <td>1</td>\n",
       "    </tr>\n",
       "  </tbody>\n",
       "</table>\n",
       "<p>5 rows × 40 columns</p>\n",
       "</div>"
      ],
      "text/plain": [
       "   gradyear gender     age  friends  basketball  football  soccer  softball  \\\n",
       "0      2006      M  18.982        7           0         0       0         0   \n",
       "1      2006      F  18.801        0           0         1       0         0   \n",
       "2      2006      M  18.335       69           0         1       0         0   \n",
       "3      2006      F  18.875        0           0         0       0         0   \n",
       "4      2006    NaN  18.995       10           0         0       0         0   \n",
       "\n",
       "   volleyball  swimming  ...    blonde  mall  shopping  clothes  hollister  \\\n",
       "0           0         0  ...         0     0         0        0          0   \n",
       "1           0         0  ...         0     1         0        0          0   \n",
       "2           0         0  ...         0     0         0        0          0   \n",
       "3           0         0  ...         0     0         0        0          0   \n",
       "4           0         0  ...         0     0         2        0          0   \n",
       "\n",
       "   abercrombie  die  death  drunk  drugs  \n",
       "0            0    0      0      0      0  \n",
       "1            0    0      0      0      0  \n",
       "2            0    0      1      0      0  \n",
       "3            0    0      0      0      0  \n",
       "4            0    0      0      1      1  \n",
       "\n",
       "[5 rows x 40 columns]"
      ]
     },
     "execution_count": 667,
     "metadata": {},
     "output_type": "execute_result"
    }
   ],
   "source": [
    "df_sns = pd.read_csv('snsdata.csv', sep=',')\n",
    "df_sns.head()"
   ]
  },
  {
   "cell_type": "markdown",
   "metadata": {},
   "source": [
    "Данные устроены так: \n",
    "* Год выпуска\n",
    "* Пол\n",
    "* Возраст\n",
    "* Количество друзей\n",
    "* 36 ключевых слов, которые встречаются в профилe facebook (интересы, сообщества, встречи)"
   ]
  },
  {
   "cell_type": "markdown",
   "metadata": {},
   "source": [
    "* Удалите все признаки кроме 36 ключевых слов.\n",
    "* Нормализуйте данные - из каждого столбца вычтите его среднее значение и поделите на стандартное отклонение.\n",
    "* Используйте метод k-means чтобы выделить 9 кластеров\n",
    "* Попробуйте проинтерпретировать каждый кластер проанализировав полученные центройды (Некоторые кластеры могут быть очень большие и очень маленькие - плохо интерпретируются)   \n",
    "КОММЕНТАРИИ НЕ СТИРАТЬ!"
   ]
  },
  {
   "cell_type": "markdown",
   "metadata": {},
   "source": [
    "Дропаем ненужные столбцы и нормализуем данные"
   ]
  },
  {
   "cell_type": "code",
   "execution_count": 668,
   "metadata": {
    "collapsed": true
   },
   "outputs": [],
   "source": [
    "n_clusters=9\n",
    "top_n = 5\n",
    "df_sns = df_sns.drop(df_sns.columns[:4], axis=1)\n",
    "df_sns = (df_sns - df_sns.mean(axis=0)) / df_sns.std(axis=0)"
   ]
  },
  {
   "cell_type": "code",
   "execution_count": 771,
   "metadata": {
    "collapsed": true
   },
   "outputs": [],
   "source": [
    "def cluster(clf):\n",
    "    clf.fit(df_sns.values)\n",
    "    labeled_sns = df_sns\n",
    "    labeled_sns.loc[:, 'label'] = clf.predict(df_sns.values)\n",
    "    \n",
    "    for (c, group) in labeled_sns.groupby('label'):\n",
    "        print('Cluster: %d' % c)\n",
    "        print('Size: %d' % len(group))\n",
    "        print(group.iloc[:,:-1].mean().nlargest(top_n))\n",
    "        print(\"=\" * 10 + '\\n')"
   ]
  },
  {
   "cell_type": "code",
   "execution_count": 671,
   "metadata": {
    "collapsed": true
   },
   "outputs": [],
   "source": [
    "## MyKMeans"
   ]
  },
  {
   "cell_type": "code",
   "execution_count": 712,
   "metadata": {},
   "outputs": [
    {
     "name": "stdout",
     "output_type": "stream",
     "text": [
      "CPU times: user 2 µs, sys: 1e+03 ns, total: 3 µs\n",
      "Wall time: 6.2 µs\n",
      "Cluster: 0\n",
      "Size: 833\n",
      "hollister      4.170777\n",
      "abercrombie    4.003862\n",
      "shopping       0.778816\n",
      "mall           0.587705\n",
      "clothes        0.564629\n",
      "dtype: float64\n",
      "==========\n",
      "\n",
      "Cluster: 1\n",
      "Size: 4105\n",
      "shopping    0.887111\n",
      "cute        0.740624\n",
      "mall        0.702889\n",
      "dress       0.667493\n",
      "dance       0.658728\n",
      "dtype: float64\n",
      "==========\n",
      "\n",
      "Cluster: 2\n",
      "Size: 1823\n",
      "football      1.926374\n",
      "baseball      1.647246\n",
      "basketball    1.444906\n",
      "sports        1.067609\n",
      "tennis        0.723448\n",
      "dtype: float64\n",
      "==========\n",
      "\n",
      "Cluster: 3\n",
      "Size: 465\n",
      "kissed     5.408717\n",
      "hair       3.183832\n",
      "sex        3.010224\n",
      "rock       2.014633\n",
      "clothes    1.860733\n",
      "dtype: float64\n",
      "==========\n",
      "\n",
      "Cluster: 4\n",
      "Size: 592\n",
      "marching    5.248158\n",
      "band        4.092632\n",
      "music       0.502026\n",
      "rock        0.164016\n",
      "god         0.082424\n",
      "dtype: float64\n",
      "==========\n",
      "\n",
      "Cluster: 5\n",
      "Size: 1767\n",
      "soccer        1.854940\n",
      "softball      1.407860\n",
      "sexy          1.127663\n",
      "drunk         0.756555\n",
      "volleyball    0.275106\n",
      "dtype: float64\n",
      "==========\n",
      "\n",
      "Cluster: 6\n",
      "Size: 536\n",
      "drugs    4.787311\n",
      "die      2.166820\n",
      "drunk    1.985922\n",
      "hair     1.711971\n",
      "death    1.045482\n",
      "dtype: float64\n",
      "==========\n",
      "\n",
      "Cluster: 7\n",
      "Size: 18818\n",
      "blonde   -0.030361\n",
      "bible    -0.061919\n",
      "jesus    -0.076633\n",
      "tennis   -0.076935\n",
      "death    -0.085484\n",
      "dtype: float64\n",
      "==========\n",
      "\n",
      "Cluster: 8\n",
      "Size: 1061\n",
      "cheerleading    3.162617\n",
      "swimming        2.235811\n",
      "shopping        0.427369\n",
      "football        0.167441\n",
      "cute            0.161428\n",
      "dtype: float64\n",
      "==========\n",
      "\n"
     ]
    }
   ],
   "source": [
    "%time\n",
    "cluster(MyKmeans(k=n_clusters))"
   ]
  },
  {
   "cell_type": "markdown",
   "metadata": {},
   "source": [
    "Охарактеризуем деление:\n",
    "\n",
    "Cluster: 0 -- любители шопинга \n",
    "\n",
    "Cluster: 1 -- тоже любители шопинга\n",
    "\n",
    "Cluster: 2 -- любители спорта\n",
    "\n",
    "Cluster: 3 -- тусовщики\n",
    "\n",
    "Cluster: 4 -- уличная рок-тусовка\n",
    "\n",
    "Cluster: 5 -- фанаты \n",
    "\n",
    "Cluster: 6 -- суицидально ориентированные наркоманы-алкоголики\n",
    "\n",
    "Cluster: 7 -- слишком большой кластер\n",
    "\n",
    "Cluster: 8 -- черлидеры"
   ]
  },
  {
   "cell_type": "code",
   "execution_count": null,
   "metadata": {
    "collapsed": true
   },
   "outputs": [],
   "source": [
    "## MyKMeans++"
   ]
  },
  {
   "cell_type": "code",
   "execution_count": 717,
   "metadata": {},
   "outputs": [
    {
     "name": "stdout",
     "output_type": "stream",
     "text": [
      "CPU times: user 4 µs, sys: 1e+03 ns, total: 5 µs\n",
      "Wall time: 7.87 µs\n",
      "Cluster: 0\n",
      "Size: 4772\n",
      "shopping       0.903289\n",
      "mall           0.710463\n",
      "cute           0.694726\n",
      "hollister      0.665081\n",
      "abercrombie    0.609302\n",
      "dtype: float64\n",
      "==========\n",
      "\n",
      "Cluster: 1\n",
      "Size: 1127\n",
      "drunk    2.271745\n",
      "sexy     1.903045\n",
      "drugs    1.799914\n",
      "die      0.844692\n",
      "hair     0.699668\n",
      "dtype: float64\n",
      "==========\n",
      "\n",
      "Cluster: 2\n",
      "Size: 545\n",
      "kissed     5.082173\n",
      "sex        3.150167\n",
      "hair       3.034326\n",
      "drugs      1.959882\n",
      "clothes    1.793818\n",
      "dtype: float64\n",
      "==========\n",
      "\n",
      "Cluster: 3\n",
      "Size: 2258\n",
      "football      1.300504\n",
      "marching      1.274700\n",
      "band          1.032572\n",
      "basketball    1.024398\n",
      "softball      1.018412\n",
      "dtype: float64\n",
      "==========\n",
      "\n",
      "Cluster: 4\n",
      "Size: 231\n",
      "bible     6.961096\n",
      "jesus     4.622239\n",
      "god       4.342829\n",
      "church    2.230210\n",
      "death     0.452053\n",
      "dtype: float64\n",
      "==========\n",
      "\n",
      "Cluster: 5\n",
      "Size: 19351\n",
      "blonde     -0.029624\n",
      "swimming   -0.037561\n",
      "bible      -0.070155\n",
      "tennis     -0.075371\n",
      "jesus      -0.077163\n",
      "dtype: float64\n",
      "==========\n",
      "\n",
      "Cluster: 6\n",
      "Size: 632\n",
      "cheerleading    5.477811\n",
      "shopping        0.486887\n",
      "football        0.324251\n",
      "hot             0.227821\n",
      "cute            0.214828\n",
      "dtype: float64\n",
      "==========\n",
      "\n",
      "Cluster: 7\n",
      "Size: 424\n",
      "baseball      6.276826\n",
      "football      1.200466\n",
      "basketball    0.936853\n",
      "sports        0.804324\n",
      "rock          0.657502\n",
      "dtype: float64\n",
      "==========\n",
      "\n",
      "Cluster: 8\n",
      "Size: 660\n",
      "soccer        5.185224\n",
      "sports        0.301120\n",
      "shopping      0.175738\n",
      "basketball    0.153566\n",
      "football      0.140660\n",
      "dtype: float64\n",
      "==========\n",
      "\n"
     ]
    }
   ],
   "source": [
    "%time\n",
    "cluster(MyKmeans(k=n_clusters, init='k-means'))"
   ]
  },
  {
   "cell_type": "markdown",
   "metadata": {},
   "source": [
    "Cluster: 0 -- любители шоппинга\n",
    "\n",
    "Cluster: 1 -- тусовщики\n",
    "\n",
    "Cluster: 2 -- любители поцелуев, секса и наркотиков\n",
    "\n",
    "Cluster: 3 -- любители спорта\n",
    "\n",
    "Cluster: 4 -- религиозные люди\n",
    "\n",
    "Cluster: 5 -- большой кластер (неинтерпретируемый)\n",
    "\n",
    "Cluster: 6 -- любители черлидинга\n",
    "\n",
    "Cluster: 7 -- любители спортивных игр(особенно бейсбола)\n",
    "\n",
    "Cluster: 8 -- любители спортивных игр(особенно футбола)"
   ]
  },
  {
   "cell_type": "code",
   "execution_count": null,
   "metadata": {
    "collapsed": true
   },
   "outputs": [],
   "source": [
    "## MyKMeans с MiniBatchMyKMeans"
   ]
  },
  {
   "cell_type": "code",
   "execution_count": 724,
   "metadata": {},
   "outputs": [
    {
     "name": "stdout",
     "output_type": "stream",
     "text": [
      "CPU times: user 3 µs, sys: 1e+03 ns, total: 4 µs\n",
      "Wall time: 7.87 µs\n",
      "Cluster: 0\n",
      "Size: 257\n",
      "bible     5.923082\n",
      "tennis    4.392293\n",
      "jesus     2.416058\n",
      "church    2.151767\n",
      "god       1.443815\n",
      "dtype: float64\n",
      "==========\n",
      "\n",
      "Cluster: 1\n",
      "Size: 711\n",
      "abercrombie    4.093401\n",
      "hollister      3.529867\n",
      "clothes        1.456393\n",
      "shopping       1.095090\n",
      "drugs          0.899726\n",
      "dtype: float64\n",
      "==========\n",
      "\n",
      "Cluster: 2\n",
      "Size: 53\n",
      "death       8.550505\n",
      "die         6.049748\n",
      "marching    5.642041\n",
      "band        4.774739\n",
      "god         1.212781\n",
      "dtype: float64\n",
      "==========\n",
      "\n",
      "Cluster: 3\n",
      "Size: 736\n",
      "kissed    3.705378\n",
      "hair      3.161739\n",
      "drugs     2.070441\n",
      "sex       2.042429\n",
      "drunk     1.699563\n",
      "dtype: float64\n",
      "==========\n",
      "\n",
      "Cluster: 4\n",
      "Size: 23611\n",
      "marching   -0.009236\n",
      "blonde     -0.023439\n",
      "band       -0.042621\n",
      "sexy       -0.044411\n",
      "swimming   -0.046804\n",
      "dtype: float64\n",
      "==========\n",
      "\n",
      "Cluster: 5\n",
      "Size: 506\n",
      "soccer        5.609112\n",
      "hot           1.022656\n",
      "sports        0.327969\n",
      "shopping      0.290232\n",
      "basketball    0.274396\n",
      "dtype: float64\n",
      "==========\n",
      "\n",
      "Cluster: 6\n",
      "Size: 786\n",
      "dress       4.330501\n",
      "shopping    0.863307\n",
      "cute        0.815303\n",
      "dance       0.746150\n",
      "clothes     0.531041\n",
      "dtype: float64\n",
      "==========\n",
      "\n",
      "Cluster: 7\n",
      "Size: 2728\n",
      "sports        1.445149\n",
      "softball      1.307904\n",
      "basketball    1.160562\n",
      "volleyball    1.025644\n",
      "god           0.404621\n",
      "dtype: float64\n",
      "==========\n",
      "\n",
      "Cluster: 8\n",
      "Size: 612\n",
      "rock            2.232136\n",
      "death           1.971762\n",
      "music           1.601473\n",
      "cheerleading    1.581275\n",
      "mall            0.879494\n",
      "dtype: float64\n",
      "==========\n",
      "\n"
     ]
    }
   ],
   "source": [
    "%time\n",
    "cluster(MiniBatchKMeans(k=n_clusters))"
   ]
  },
  {
   "cell_type": "markdown",
   "metadata": {},
   "source": [
    "Cluster: 0 -- религиозные люди\n",
    "\n",
    "Cluster: 1 -- любители одежды\n",
    "\n",
    "Cluster: 2 -- тематика смерти\n",
    "\n",
    "Cluster: 3 -- любители поцелуев, секса и наркотиков\n",
    "\n",
    "Cluster: 4 -- большой неинтерпретируемый кластер\n",
    "\n",
    "Cluster: 5 -- любители спорта\n",
    "\n",
    "Cluster: 6 -- любители одежды\n",
    "\n",
    "Cluster: 7 -- любители спорта\n",
    "\n",
    "Cluster: 8 -- любители рок-музыки"
   ]
  },
  {
   "cell_type": "code",
   "execution_count": 627,
   "metadata": {},
   "outputs": [],
   "source": [
    "## MyKMeans++ с MiniBatchMyKMeans"
   ]
  },
  {
   "cell_type": "code",
   "execution_count": 770,
   "metadata": {},
   "outputs": [
    {
     "name": "stdout",
     "output_type": "stream",
     "text": [
      "CPU times: user 3 µs, sys: 1e+03 ns, total: 4 µs\n",
      "Wall time: 6.91 µs\n",
      "Cluster: 0\n",
      "Size: 134\n",
      "sex       6.695077\n",
      "kissed    6.024374\n",
      "drugs     5.397463\n",
      "hair      4.406935\n",
      "drunk     3.575220\n",
      "dtype: float64\n",
      "==========\n",
      "\n",
      "Cluster: 1\n",
      "Size: 1850\n",
      "football      2.117576\n",
      "basketball    1.876413\n",
      "volleyball    0.480789\n",
      "sports        0.344305\n",
      "softball      0.310408\n",
      "dtype: float64\n",
      "==========\n",
      "\n",
      "Cluster: 2\n",
      "Size: 868\n",
      "marching    4.573770\n",
      "band        3.044927\n",
      "music       0.495431\n",
      "rock        0.210763\n",
      "god         0.167352\n",
      "dtype: float64\n",
      "==========\n",
      "\n",
      "Cluster: 3\n",
      "Size: 25031\n",
      "blonde         -0.017841\n",
      "tennis         -0.019478\n",
      "sexy           -0.020601\n",
      "bible          -0.021473\n",
      "cheerleading   -0.021527\n",
      "dtype: float64\n",
      "==========\n",
      "\n",
      "Cluster: 4\n",
      "Size: 37\n",
      "die        14.462587\n",
      "death       2.337253\n",
      "god         1.605330\n",
      "jesus       0.736577\n",
      "clothes     0.715103\n",
      "dtype: float64\n",
      "==========\n",
      "\n",
      "Cluster: 5\n",
      "Size: 316\n",
      "church        6.084468\n",
      "jesus         1.608023\n",
      "god           1.521854\n",
      "bible         1.179236\n",
      "volleyball    0.567544\n",
      "dtype: float64\n",
      "==========\n",
      "\n",
      "Cluster: 6\n",
      "Size: 600\n",
      "mall        3.889238\n",
      "shopping    1.546587\n",
      "dress       1.488605\n",
      "drunk       1.257836\n",
      "cute        0.893690\n",
      "dtype: float64\n",
      "==========\n",
      "\n",
      "Cluster: 7\n",
      "Size: 885\n",
      "abercrombie    3.774021\n",
      "hollister      3.630396\n",
      "shopping       1.078787\n",
      "clothes        1.024603\n",
      "hair           0.877879\n",
      "dtype: float64\n",
      "==========\n",
      "\n",
      "Cluster: 8\n",
      "Size: 279\n",
      "baseball    7.232154\n",
      "sports      1.483278\n",
      "football    1.319185\n",
      "rock        1.129988\n",
      "hair        1.015584\n",
      "dtype: float64\n",
      "==========\n",
      "\n"
     ]
    }
   ],
   "source": [
    "%time\n",
    "cluster(MiniBatchKMeans(k=n_clusters, init='k-means'))"
   ]
  },
  {
   "cell_type": "markdown",
   "metadata": {},
   "source": [
    "Cluster: 0 -- любители секса, поцелуев и наркотиков\n",
    "\n",
    "Cluster: 1 -- любители спорта\n",
    "\n",
    "Cluster: 2 -- уличные музыканты\n",
    "\n",
    "Cluster: 3 -- большой неинтерпретируемый кластер\n",
    "\n",
    "Cluster: 4 -- уличные музыканты\n",
    "\n",
    "Cluster: 5 -- любители спорта\n",
    "\n",
    "Cluster: 6 -- маленький шоппинга\n",
    "\n",
    "Cluster: 7 -- любители одежды\n",
    "\n",
    "Cluster: 8 -- любители спорта"
   ]
  },
  {
   "cell_type": "code",
   "execution_count": null,
   "metadata": {
    "collapsed": true
   },
   "outputs": [],
   "source": [
    "## Вывод"
   ]
  }
 ],
 "metadata": {
  "anaconda-cloud": {},
  "kernelspec": {
   "display_name": "Python 3",
   "language": "python",
   "name": "python3"
  },
  "language_info": {
   "codemirror_mode": {
    "name": "ipython",
    "version": 3
   },
   "file_extension": ".py",
   "mimetype": "text/x-python",
   "name": "python",
   "nbconvert_exporter": "python",
   "pygments_lexer": "ipython3",
   "version": "3.6.1"
  },
  "nav_menu": {},
  "toc": {
   "navigate_menu": true,
   "number_sections": false,
   "sideBar": true,
   "threshold": 6,
   "toc_cell": false,
   "toc_section_display": "block",
   "toc_window_display": true
  }
 },
 "nbformat": 4,
 "nbformat_minor": 2
}
