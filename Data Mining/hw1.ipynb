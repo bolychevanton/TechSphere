{
 "cells": [
  {
   "cell_type": "markdown",
   "metadata": {},
   "source": [
    "**Общая информация**\n",
    "\n",
    "**Срок сдачи:** 13 марта 2017, 06:00 <br\\>\n",
    "**Штраф за опоздание:** -2 балла после 06:00 13 марта, -4 балла после 06:00 20 марта, -6 баллов после 06:00 27 марта\n",
    "\n",
    "При отправлении ДЗ указывайте фамилию в названии файла\n",
    "Присылать ДЗ необходимо в виде ссылки на свой github репозиторий в slack @alkhamush\n",
    "\n",
    "Необходимо в slack создать таск в приватный чат:\n",
    "/todo Фамилия Имя ссылка на гитхаб @alkhamush\n",
    "Пример:\n",
    "/todo Ксения Стройкова https://github.com/stroykova/spheremailru/stroykova_hw1.ipynb @alkhamush\n",
    "\n",
    "Используйте данный Ipython Notebook при оформлении домашнего задания."
   ]
  },
  {
   "cell_type": "markdown",
   "metadata": {},
   "source": [
    "###### Задание 1 (2 баллов)\n",
    "Реализовать KNN в классе MyKNeighborsClassifier (обязательное условие: точность не ниже sklearn реализации)\n",
    "Разберитесь самостоятельно, какая мера расстояния используется в KNeighborsClassifier дефолтно и реализуйте свой алгоритм именно с этой мерой. Самостоятельно разберитесь, как считается score из KNeighborsClassifier и реализуйте аналог в своём классе.\n",
    "\n",
    "###### Задание 2 (2 балла)\n",
    "Добиться скорости работы на fit,  predict и predict_proba сравнимой со sklearn 4 балла для iris и mnist\n",
    "Для этого используем numpy\n",
    "\n",
    "###### Задание 3 (2 балла)\n",
    "Для iris найдите такой параметр n_neighbors, при котором выдаётся наилучший score. Нарисуйте график зависимости score от n_neighbors\n",
    "\n",
    "###### Задание 3 (2 балла)\n",
    "Выполнить требования pep8\n",
    "\n",
    "###### Задание 5 (2 балла)\n",
    "Описать для чего нужны следующие библиотеки/классы/функции (список будет ниже)\n"
   ]
  },
  {
   "cell_type": "code",
   "execution_count": 2,
   "metadata": {
    "collapsed": true
   },
   "outputs": [],
   "source": [
    "import numpy as np\n",
    "import matplotlib.pyplot as plt\n",
    "\n",
    "import seaborn as sns\n",
    "from sklearn import datasets\n",
    "from sklearn.base import ClassifierMixin\n",
    "from sklearn.datasets import fetch_mldata\n",
    "from sklearn.neighbors.base import \\\n",
    "    NeighborsBase, KNeighborsMixin,\\\n",
    "    RadiusNeighborsMixin, SupervisedIntegerMixin\n",
    "from sklearn.model_selection import train_test_split\n",
    "from sklearn.neighbors import KNeighborsClassifier"
   ]
  },
  {
   "cell_type": "code",
   "execution_count": 3,
   "metadata": {},
   "outputs": [],
   "source": [
    "def pairwise_distances(X, Y):\n",
    "    \"\"\"Функция, считающая попарные расстояния между строчками матриц X, Y.\n",
    "\n",
    "    Идейно должна лежать в каком-нибудь отдельном файле типа untils.py.\n",
    "    \"\"\"\n",
    "\n",
    "    x_dist = (X ** 2).sum(axis=1)\n",
    "    y_dist = (Y ** 2).sum(axis=1)\n",
    "    xy_dist = X.dot(Y.T)\n",
    "    dist = -2 * xy_dist + y_dist + x_dist.reshape(-1, 1)\n",
    "\n",
    "    \"\"\"Из математических соображений не могло получиться отрицательных\n",
    "    значений, поэтому обнулим их, чтобы не возникало ошибок.\"\"\"\n",
    "    return np.sqrt(np.where(dist < 0, 0, dist))\n",
    "\n",
    "\n",
    "class MyKNeighborsClassifier(NeighborsBase, KNeighborsMixin,\n",
    "                             SupervisedIntegerMixin, ClassifierMixin):\n",
    "\n",
    "    \"\"\"Данный класс представляет собой реализацию метода ближайших соседей.\n",
    "\n",
    "    В качестве основной метрики используется евклидова метрика.\n",
    "    \"\"\"\n",
    "\n",
    "    def __init__(self, n_neighbors=5):\n",
    "        self.n_neighbors = n_neighbors\n",
    "\n",
    "    def fit(self, X, y):\n",
    "        \"\"\"Обучаем выборку.\n",
    "            В качестве train data берем X.\n",
    "            В качестве target values берем y.\n",
    "\n",
    "            Требования к X -- numpy.ndarray размерности не более двух.\n",
    "            Требования к y -- numpy.ndarray размерности 1.\n",
    "            \"\"\"\n",
    "\n",
    "        isXarr = isinstance(X, np.ndarray)\n",
    "        isyarr = isinstance(y, np.ndarray)\n",
    "        if not (isXarr and isyarr) or X.ndim > 2 or y.ndim != 1:\n",
    "            raise Exception('Wrong format of X,y')\n",
    "\n",
    "        if X.ndim == 1:\n",
    "            self.X_ = X.reshape(X.shape[0], 1)\n",
    "        else:\n",
    "            self.X_ = X\n",
    "\n",
    "        self.y_ = y\n",
    "        self.classes_ = np.unique(y)\n",
    "\n",
    "    def _row_mode(self, X):\n",
    "        \"\"\"Функция, считающая моду по строчкам\"\"\"\n",
    "\n",
    "        row_mode = np.array(self.classes_[0]).repeat(X.shape[0])\n",
    "        class_count = np.zeros(X.shape[0]) - 1\n",
    "        for cur_class in self.classes_:\n",
    "            cur_class_count = np.sum(cur_class == X, axis=1)\n",
    "            row_mode = np.where(class_count < cur_class_count,\n",
    "                                cur_class, row_mode)\n",
    "            class_count = np.where(class_count < cur_class_count,\n",
    "                                   cur_class_count, class_count)\n",
    "        return row_mode\n",
    "\n",
    "    def predict(self, X):\n",
    "        \"\"\"Predict the class labels for the provided data\n",
    "\n",
    "        Parameters\n",
    "        ----------\n",
    "        X : array-like, shape (n_query, n_features),\n",
    "            Test samples.\n",
    "\n",
    "        Returns\n",
    "        -------\n",
    "        y : array of shape [n_samples]\n",
    "            Class labels for each data sample.\n",
    "        \"\"\"\n",
    "\n",
    "        isXarr = isinstance(X, np.ndarray)\n",
    "        if not isXarr or X.ndim != 2 or X.shape[1] != self.X_.shape[1]:\n",
    "            raise Exception('Wrong format of X')\n",
    "\n",
    "        classesNeighbors = self._getKNeighborsClasses(X)\n",
    "        return self._row_mode(classesNeighbors)\n",
    "\n",
    "    def predict_proba(self, X):\n",
    "        classesNeighbors = self._getKNeighborsClasses(X)\n",
    "\n",
    "        probs = []\n",
    "        for cur_class in self.classes_:\n",
    "            probs.append(np.sum(cur_class == classesNeighbors, axis=1))\n",
    "\n",
    "        return np.array(probs).T / self.n_neighbors\n",
    "\n",
    "    def score(self, X, y):\n",
    "        return np.average(self.predict(X) == y)\n",
    "\n",
    "    def _getKNeighborsClasses(self, X, n_neighbors=None):\n",
    "        \"\"\"Функция возвращает классы k ближайших соседей\"\"\"\n",
    "\n",
    "        if n_neighbors is None:\n",
    "            n_neighbors = self.n_neighbors\n",
    "\n",
    "        pairwise_dist = pairwise_distances(X, self.X_)\n",
    "        neigborsIndexes = np.argsort(pairwise_dist, axis=1)[:, : n_neighbors]\n",
    "        return self.y_[neigborsIndexes]"
   ]
  },
  {
   "cell_type": "markdown",
   "metadata": {},
   "source": [
    "**IRIS**"
   ]
  },
  {
   "cell_type": "code",
   "execution_count": 3,
   "metadata": {
    "collapsed": true
   },
   "outputs": [],
   "source": [
    "iris = datasets.load_iris()"
   ]
  },
  {
   "cell_type": "code",
   "execution_count": 4,
   "metadata": {
    "collapsed": true
   },
   "outputs": [],
   "source": [
    "X_train, X_test, y_train, y_test = train_test_split(iris.data, iris.target, test_size=0.1, stratify=iris.target)"
   ]
  },
  {
   "cell_type": "code",
   "execution_count": 5,
   "metadata": {
    "collapsed": true
   },
   "outputs": [],
   "source": [
    "clf = KNeighborsClassifier(n_neighbors=4)\n",
    "my_clf = MyKNeighborsClassifier(n_neighbors=4)"
   ]
  },
  {
   "cell_type": "code",
   "execution_count": 6,
   "metadata": {},
   "outputs": [
    {
     "name": "stdout",
     "output_type": "stream",
     "text": [
      "CPU times: user 1 ms, sys: 261 µs, total: 1.26 ms\n",
      "Wall time: 1.11 ms\n"
     ]
    },
    {
     "data": {
      "text/plain": [
       "KNeighborsClassifier(algorithm='auto', leaf_size=30, metric='minkowski',\n",
       "           metric_params=None, n_jobs=1, n_neighbors=4, p=2,\n",
       "           weights='uniform')"
      ]
     },
     "execution_count": 6,
     "metadata": {},
     "output_type": "execute_result"
    }
   ],
   "source": [
    "%time clf.fit(X_train, y_train)"
   ]
  },
  {
   "cell_type": "code",
   "execution_count": 7,
   "metadata": {},
   "outputs": [
    {
     "name": "stdout",
     "output_type": "stream",
     "text": [
      "CPU times: user 97 µs, sys: 62 µs, total: 159 µs\n",
      "Wall time: 124 µs\n"
     ]
    }
   ],
   "source": [
    "%time my_clf.fit(X_train, y_train)"
   ]
  },
  {
   "cell_type": "code",
   "execution_count": 8,
   "metadata": {},
   "outputs": [
    {
     "name": "stdout",
     "output_type": "stream",
     "text": [
      "CPU times: user 993 µs, sys: 242 µs, total: 1.23 ms\n",
      "Wall time: 1.08 ms\n"
     ]
    },
    {
     "data": {
      "text/plain": [
       "array([0, 1, 1, 1, 0, 2, 2, 0, 2, 2, 1, 0, 1, 0, 1])"
      ]
     },
     "execution_count": 8,
     "metadata": {},
     "output_type": "execute_result"
    }
   ],
   "source": [
    "%time clf.predict(X_test)"
   ]
  },
  {
   "cell_type": "code",
   "execution_count": 9,
   "metadata": {},
   "outputs": [
    {
     "name": "stdout",
     "output_type": "stream",
     "text": [
      "CPU times: user 986 µs, sys: 637 µs, total: 1.62 ms\n",
      "Wall time: 1.37 ms\n"
     ]
    },
    {
     "data": {
      "text/plain": [
       "array([0, 1, 1, 1, 0, 2, 2, 0, 2, 2, 1, 0, 1, 0, 1])"
      ]
     },
     "execution_count": 9,
     "metadata": {},
     "output_type": "execute_result"
    }
   ],
   "source": [
    "%time my_clf.predict(X_test)"
   ]
  },
  {
   "cell_type": "code",
   "execution_count": 10,
   "metadata": {},
   "outputs": [
    {
     "name": "stdout",
     "output_type": "stream",
     "text": [
      "CPU times: user 934 µs, sys: 216 µs, total: 1.15 ms\n",
      "Wall time: 1.01 ms\n"
     ]
    },
    {
     "data": {
      "text/plain": [
       "array([[1.  , 0.  , 0.  ],\n",
       "       [0.  , 1.  , 0.  ],\n",
       "       [0.  , 1.  , 0.  ],\n",
       "       [0.  , 1.  , 0.  ],\n",
       "       [1.  , 0.  , 0.  ],\n",
       "       [0.  , 0.  , 1.  ],\n",
       "       [0.  , 0.  , 1.  ],\n",
       "       [1.  , 0.  , 0.  ],\n",
       "       [0.  , 0.  , 1.  ],\n",
       "       [0.  , 0.25, 0.75],\n",
       "       [0.  , 1.  , 0.  ],\n",
       "       [1.  , 0.  , 0.  ],\n",
       "       [0.  , 1.  , 0.  ],\n",
       "       [1.  , 0.  , 0.  ],\n",
       "       [0.  , 1.  , 0.  ]])"
      ]
     },
     "execution_count": 10,
     "metadata": {},
     "output_type": "execute_result"
    }
   ],
   "source": [
    "%time clf.predict_proba(X_test)"
   ]
  },
  {
   "cell_type": "code",
   "execution_count": 11,
   "metadata": {},
   "outputs": [
    {
     "name": "stdout",
     "output_type": "stream",
     "text": [
      "CPU times: user 693 µs, sys: 262 µs, total: 955 µs\n",
      "Wall time: 756 µs\n"
     ]
    },
    {
     "data": {
      "text/plain": [
       "array([[1.  , 0.  , 0.  ],\n",
       "       [0.  , 1.  , 0.  ],\n",
       "       [0.  , 1.  , 0.  ],\n",
       "       [0.  , 1.  , 0.  ],\n",
       "       [1.  , 0.  , 0.  ],\n",
       "       [0.  , 0.  , 1.  ],\n",
       "       [0.  , 0.  , 1.  ],\n",
       "       [1.  , 0.  , 0.  ],\n",
       "       [0.  , 0.  , 1.  ],\n",
       "       [0.  , 0.25, 0.75],\n",
       "       [0.  , 1.  , 0.  ],\n",
       "       [1.  , 0.  , 0.  ],\n",
       "       [0.  , 1.  , 0.  ],\n",
       "       [1.  , 0.  , 0.  ],\n",
       "       [0.  , 1.  , 0.  ]])"
      ]
     },
     "execution_count": 11,
     "metadata": {},
     "output_type": "execute_result"
    }
   ],
   "source": [
    "%time my_clf.predict_proba(X_test)"
   ]
  },
  {
   "cell_type": "code",
   "execution_count": 12,
   "metadata": {},
   "outputs": [
    {
     "data": {
      "text/plain": [
       "0.9333333333333333"
      ]
     },
     "execution_count": 12,
     "metadata": {},
     "output_type": "execute_result"
    }
   ],
   "source": [
    "clf.score(X_test, y_test)"
   ]
  },
  {
   "cell_type": "code",
   "execution_count": 13,
   "metadata": {},
   "outputs": [
    {
     "data": {
      "text/plain": [
       "0.9333333333333333"
      ]
     },
     "execution_count": 13,
     "metadata": {},
     "output_type": "execute_result"
    }
   ],
   "source": [
    "my_clf.score(X_test, y_test)"
   ]
  },
  {
   "cell_type": "code",
   "execution_count": 14,
   "metadata": {},
   "outputs": [
    {
     "data": {
      "image/png": "[encoded data removed]",
      "text/plain": [
       "<matplotlib.figure.Figure at 0x1a1418fa58>"
      ]
     },
     "metadata": {},
     "output_type": "display_data"
    },
    {
     "name": "stdout",
     "output_type": "stream",
     "text": [
      "\n",
      "\n",
      "Максимальное значение score на тестовой выборке достигается при количестве соседей равным\n",
      " [ 3  4  5  6  7  8  9 10 11 12 13 14 15 16 17 18 19 20 21 22 23 24 25 26\n",
      " 27 28 29]\n",
      "Максимальное значение score на тренировочной выборке достигается при количестве соседей равным\n",
      " [12 15 16]\n"
     ]
    }
   ],
   "source": [
    "# Задание 3\n",
    "\n",
    "\"\"\"Списки ошибок для моего классификатора\"\"\"\n",
    "errors_train_my = []\n",
    "errors_test_my = []\n",
    "\n",
    "\"\"\"Списки ошибок для библиотечного классификатора\"\"\"\n",
    "errors_train = []\n",
    "errors_test = []\n",
    "\n",
    "neighbors_range = range(2, 30)\n",
    "for k in neighbors_range:\n",
    "\n",
    "    \"\"\"My Classifier\"\"\"\n",
    "\n",
    "    my_knn = MyKNeighborsClassifier(k)\n",
    "    my_knn.fit(X_train, y_train)\n",
    "\n",
    "    errors_train_my.append(my_knn.score(X_train, y_train))\n",
    "    errors_test_my.append(my_knn.score(X_test, y_test))\n",
    "\n",
    "    \"\"\"sklearn Classifier\"\"\"\n",
    "\n",
    "    knn = MyKNeighborsClassifier(k)\n",
    "    knn.fit(X_train, y_train)\n",
    "\n",
    "    errors_train.append(knn.score(X_train, y_train))\n",
    "    errors_test.append(knn.score(X_test, y_test))\n",
    "\n",
    "\"\"\"Рисуем график для My Classifier\"\"\"\n",
    "plt.subplot(1, 2, 1)\n",
    "plt.plot(neighbors_range, errors_train_my, color='blue', label='train')\n",
    "plt.plot(neighbors_range, errors_test_my, color='red', label='test')\n",
    "plt.title('My Classifier')\n",
    "plt.legend()\n",
    "\n",
    "\"\"\"Рисуем график для sklearn Classifier\"\"\"\n",
    "plt.subplot(1, 2, 2)\n",
    "plt.plot(neighbors_range, errors_train, color='blue', label='train')\n",
    "plt.plot(neighbors_range, errors_test, color='red', label='test')\n",
    "plt.title('sklearn Classifier')\n",
    "plt.legend()\n",
    "fig = plt.gcf()\n",
    "fig.set_size_inches(15, 6, forward=True)\n",
    "plt.show()\n",
    "\n",
    "\"\"\"Выводим лучшие показатели количества соседей\"\"\"\n",
    "neighbors_range = np.array(neighbors_range)\n",
    "mask_argmaxes_test = np.abs(errors_test - max(errors_test)) < 1e-10\n",
    "argmaxes_test = neighbors_range[mask_argmaxes_test]\n",
    "\n",
    "mask_argmaxes_train = np.abs(errors_train - max(errors_train)) < 1e-10\n",
    "argmaxes_train = neighbors_range[mask_argmaxes_train]\n",
    "print(\"\\n\\nМаксимальное значение score на тестовой выборке \"\n",
    "      \"достигается при количестве соседей равным\\n\", argmaxes_test)\n",
    "print(\"Максимальное значение score на тренировочной выборке \"\n",
    "      \"достигается при количестве соседей равным\\n\", argmaxes_train)"
   ]
  },
  {
   "cell_type": "markdown",
   "metadata": {},
   "source": [
    "**MNIST**"
   ]
  },
  {
   "cell_type": "code",
   "execution_count": null,
   "metadata": {
    "collapsed": true
   },
   "outputs": [],
   "source": [
    "mnist = fetch_mldata('MNIST original')"
   ]
  },
  {
   "cell_type": "code",
   "execution_count": null,
   "metadata": {
    "collapsed": true
   },
   "outputs": [],
   "source": [
    "X_train, X_test, y_train, y_test = train_test_split(mnist.data, mnist.target, test_size=0.1, stratify=mnist.target)"
   ]
  },
  {
   "cell_type": "code",
   "execution_count": 4,
   "metadata": {},
   "outputs": [
    {
     "name": "stdout",
     "output_type": "stream",
     "text": [
      "Extracting MNIST_data/train-images-idx3-ubyte.gz\n",
      "Extracting MNIST_data/train-labels-idx1-ubyte.gz\n",
      "Extracting MNIST_data/t10k-images-idx3-ubyte.gz\n",
      "Extracting MNIST_data/t10k-labels-idx1-ubyte.gz\n"
     ]
    }
   ],
   "source": [
    "\"\"\"К сожалению, у меня не заработала fetch_mldata, поэтому использовал следующий\n",
    "код для работы с данными. Для его выполнения должен стоять пакет tensorflow.\n",
    "\"\"\"\n",
    "\n",
    "from tensorflow.examples.tutorials.mnist import input_data\n",
    "mnist = input_data.read_data_sets(\"MNIST_data/\")\n",
    "\n",
    "data = np.concatenate((mnist.train.images, mnist.test.images, mnist.validation.images), axis = 0)\n",
    "target = np.concatenate((mnist.train.labels, mnist.test.labels, mnist.validation.labels), axis = 0)"
   ]
  },
  {
   "cell_type": "code",
   "execution_count": 5,
   "metadata": {
    "collapsed": true
   },
   "outputs": [],
   "source": [
    "X_train, X_test, y_train, y_test = train_test_split(data, target, test_size=0.1, stratify=target)"
   ]
  },
  {
   "cell_type": "code",
   "execution_count": 6,
   "metadata": {},
   "outputs": [],
   "source": [
    "clf = KNeighborsClassifier(n_neighbors=2)\n",
    "my_clf = MyKNeighborsClassifier(n_neighbors=2)"
   ]
  },
  {
   "cell_type": "code",
   "execution_count": 7,
   "metadata": {},
   "outputs": [
    {
     "name": "stdout",
     "output_type": "stream",
     "text": [
      "CPU times: user 36 s, sys: 655 ms, total: 36.6 s\n",
      "Wall time: 38.9 s\n"
     ]
    },
    {
     "data": {
      "text/plain": [
       "KNeighborsClassifier(algorithm='auto', leaf_size=30, metric='minkowski',\n",
       "           metric_params=None, n_jobs=1, n_neighbors=2, p=2,\n",
       "           weights='uniform')"
      ]
     },
     "execution_count": 7,
     "metadata": {},
     "output_type": "execute_result"
    }
   ],
   "source": [
    "%time clf.fit(X_train, y_train)"
   ]
  },
  {
   "cell_type": "code",
   "execution_count": 8,
   "metadata": {},
   "outputs": [
    {
     "name": "stdout",
     "output_type": "stream",
     "text": [
      "CPU times: user 2.23 ms, sys: 1.49 ms, total: 3.72 ms\n",
      "Wall time: 1.91 ms\n"
     ]
    }
   ],
   "source": [
    "%time my_clf.fit(X_train, y_train)"
   ]
  },
  {
   "cell_type": "code",
   "execution_count": 9,
   "metadata": {},
   "outputs": [
    {
     "name": "stdout",
     "output_type": "stream",
     "text": [
      "CPU times: user 9min 5s, sys: 4.11 s, total: 9min 9s\n",
      "Wall time: 9min 24s\n"
     ]
    },
    {
     "data": {
      "text/plain": [
       "array([8, 3, 3, ..., 5, 0, 3], dtype=uint8)"
      ]
     },
     "execution_count": 9,
     "metadata": {},
     "output_type": "execute_result"
    }
   ],
   "source": [
    "%time clf.predict(X_test)"
   ]
  },
  {
   "cell_type": "code",
   "execution_count": 10,
   "metadata": {},
   "outputs": [
    {
     "name": "stdout",
     "output_type": "stream",
     "text": [
      "CPU times: user 1min 1s, sys: 17.7 s, total: 1min 18s\n",
      "Wall time: 1min 17s\n"
     ]
    },
    {
     "data": {
      "text/plain": [
       "array([8, 3, 3, ..., 5, 0, 3], dtype=uint8)"
      ]
     },
     "execution_count": 10,
     "metadata": {},
     "output_type": "execute_result"
    }
   ],
   "source": [
    "%time my_clf.predict(X_test)"
   ]
  },
  {
   "cell_type": "code",
   "execution_count": 11,
   "metadata": {},
   "outputs": [
    {
     "name": "stdout",
     "output_type": "stream",
     "text": [
      "CPU times: user 8min 47s, sys: 3.8 s, total: 8min 51s\n",
      "Wall time: 8min 58s\n"
     ]
    },
    {
     "data": {
      "text/plain": [
       "array([[0., 0., 0., ..., 0., 1., 0.],\n",
       "       [0., 0., 0., ..., 0., 0., 0.],\n",
       "       [0., 0., 0., ..., 0., 0., 0.],\n",
       "       ...,\n",
       "       [0., 0., 0., ..., 0., 0., 0.],\n",
       "       [1., 0., 0., ..., 0., 0., 0.],\n",
       "       [0., 0., 0., ..., 0., 0., 0.]])"
      ]
     },
     "execution_count": 11,
     "metadata": {},
     "output_type": "execute_result"
    }
   ],
   "source": [
    "%time clf.predict_proba(X_test)"
   ]
  },
  {
   "cell_type": "code",
   "execution_count": 12,
   "metadata": {},
   "outputs": [
    {
     "name": "stdout",
     "output_type": "stream",
     "text": [
      "CPU times: user 59.7 s, sys: 13.7 s, total: 1min 13s\n",
      "Wall time: 1min 7s\n"
     ]
    },
    {
     "data": {
      "text/plain": [
       "array([[0., 0., 0., ..., 0., 1., 0.],\n",
       "       [0., 0., 0., ..., 0., 0., 0.],\n",
       "       [0., 0., 0., ..., 0., 0., 0.],\n",
       "       ...,\n",
       "       [0., 0., 0., ..., 0., 0., 0.],\n",
       "       [1., 0., 0., ..., 0., 0., 0.],\n",
       "       [0., 0., 0., ..., 0., 0., 0.]])"
      ]
     },
     "execution_count": 12,
     "metadata": {},
     "output_type": "execute_result"
    }
   ],
   "source": [
    "%time my_clf.predict_proba(X_test)"
   ]
  },
  {
   "cell_type": "code",
   "execution_count": 13,
   "metadata": {},
   "outputs": [
    {
     "data": {
      "text/plain": [
       "0.9675714285714285"
      ]
     },
     "execution_count": 13,
     "metadata": {},
     "output_type": "execute_result"
    }
   ],
   "source": [
    "clf.score(X_test, y_test)"
   ]
  },
  {
   "cell_type": "code",
   "execution_count": 14,
   "metadata": {},
   "outputs": [
    {
     "data": {
      "text/plain": [
       "0.9675714285714285"
      ]
     },
     "execution_count": 14,
     "metadata": {},
     "output_type": "execute_result"
    }
   ],
   "source": [
    "my_clf.score(X_test, y_test)"
   ]
  },
  {
   "cell_type": "markdown",
   "metadata": {},
   "source": [
    "Задание 5"
   ]
  },
  {
   "cell_type": "code",
   "execution_count": null,
   "metadata": {
    "collapsed": true
   },
   "outputs": [],
   "source": [
    "# seaborn\n",
    "'''\n",
    "Seaborn - это питоновская библиотека для визуалиции данных, имеющая в \n",
    "качестве основы matplotlib. Представляет собой высокоуровневый инструмент \n",
    "для рисования привлекательных статистических графиков. \n",
    "'''\n",
    "\n",
    "# matplotlib\n",
    "'''\n",
    "Matplotlib - это питоновская библитека для создания 2D изображений графиков, \n",
    "различного рода фигур и интерактивных окружений. \n",
    "'''\n",
    "\n",
    "# train_test_split\n",
    "'''\n",
    "Разбивает массив данных или матрицу на тренировочное и тестовое подмножества.\n",
    "'''\n",
    "\n",
    "# Pipelin%load_ext e (from sklearn.pipeline import Pipeline)\n",
    "'''\n",
    "Pipeline может быть использован, чтобы соединить несколько алгоритмов (или методов) в один.\n",
    "Pipeline - вещь нужная, так как часто существует вполне определенная последовательность щагов в обработке\n",
    "данных, например, отбор значимых признаков, нормировка и классификация. \n",
    "'''\n",
    "\n",
    "# StandardScaler (from sklearn.preprocessing import StandardScaler)\n",
    "'''\n",
    "StandardScaler нужен для стандартизации признаков. Алгоритм прост: вычитаем среднее\n",
    "и нормируем до единичной дисперсии.\n",
    "'''\n",
    "\n",
    "# ClassifierMixin\n",
    "'''\n",
    "Класс - \"примесь\" с одним методом score. Нужен для подсчета числовой характеристики \n",
    "работоспособности метода классификации. \n",
    "'''\n",
    "\n",
    "# NeighborsBase\n",
    "'''\n",
    "Класс-основа для всех вариаций метода ближайших соседей. \n",
    "'''\n",
    "\n",
    "# KNeighborsMixin\n",
    "'''\n",
    "Класс - \"примесь\" для поиска k ближайших соседей. \n",
    "Имеет два метода: \n",
    "1. def kneighbors(self, X=None, n_neighbors=None, return_distance=True) \n",
    "        Находит K соседей данной точки\n",
    "2. def kneighbors_graph(self, X=None, n_neighbors=None,\n",
    "                         mode='connectivity')\n",
    "        Вычисляет (взвешенный) граф k-cоседей для точек из X\n",
    "'''\n",
    "\n",
    "# SupervisedIntegerMixin\n",
    "'''\n",
    "Класс - \"примесь\" с одним единственным методом fit(self, X, y), предназначенной для обучения\n",
    "модели, использующую X как train data, а y как target values\n",
    "'''"
   ]
  }
 ],
 "metadata": {
  "kernelspec": {
   "display_name": "Python 3",
   "language": "python",
   "name": "python3"
  },
  "language_info": {
   "codemirror_mode": {
    "name": "ipython",
    "version": 3
   },
   "file_extension": ".py",
   "mimetype": "text/x-python",
   "name": "python",
   "nbconvert_exporter": "python",
   "pygments_lexer": "ipython3",
   "version": "3.6.1"
  }
 },
 "nbformat": 4,
 "nbformat_minor": 2
}
