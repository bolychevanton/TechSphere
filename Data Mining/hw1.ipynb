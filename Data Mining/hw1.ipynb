{
 "cells": [
  {
   "cell_type": "markdown",
   "metadata": {},
   "source": [
    "**Общая информация**\n",
    "\n",
    "**Срок сдачи:** 13 марта 2017, 06:00 <br\\>\n",
    "**Штраф за опоздание:** -2 балла после 06:00 13 марта, -4 балла после 06:00 20 марта, -6 баллов после 06:00 27 марта\n",
    "\n",
    "При отправлении ДЗ указывайте фамилию в названии файла\n",
    "Присылать ДЗ необходимо в виде ссылки на свой github репозиторий в slack @alkhamush\n",
    "\n",
    "Необходимо в slack создать таск в приватный чат:\n",
    "/todo Фамилия Имя ссылка на гитхаб @alkhamush\n",
    "Пример:\n",
    "/todo Ксения Стройкова https://github.com/stroykova/spheremailru/stroykova_hw1.ipynb @alkhamush\n",
    "\n",
    "Используйте данный Ipython Notebook при оформлении домашнего задания."
   ]
  },
  {
   "cell_type": "markdown",
   "metadata": {},
   "source": [
    "###### Задание 1 (2 баллов)\n",
    "Реализовать KNN в классе MyKNeighborsClassifier (обязательное условие: точность не ниже sklearn реализации)\n",
    "Разберитесь самостоятельно, какая мера расстояния используется в KNeighborsClassifier дефолтно и реализуйте свой алгоритм именно с этой мерой. Самостоятельно разберитесь, как считается score из KNeighborsClassifier и реализуйте аналог в своём классе.\n",
    "\n",
    "###### Задание 2 (2 балла)\n",
    "Добиться скорости работы на fit,  predict и predict_proba сравнимой со sklearn 4 балла для iris и mnist\n",
    "Для этого используем numpy\n",
    "\n",
    "###### Задание 3 (2 балла)\n",
    "Для iris найдите такой параметр n_neighbors, при котором выдаётся наилучший score. Нарисуйте график зависимости score от n_neighbors\n",
    "\n",
    "###### Задание 3 (2 балла)\n",
    "Выполнить требования pep8\n",
    "\n",
    "###### Задание 5 (2 балла)\n",
    "Описать для чего нужны следующие библиотеки/классы/функции (список будет ниже)\n"
   ]
  },
  {
   "cell_type": "code",
   "execution_count": 2,
   "metadata": {
    "collapsed": true
   },
   "outputs": [],
   "source": [
    "import numpy as np\n",
    "import matplotlib.pyplot as plt\n",
    "\n",
    "import seaborn as sns\n",
    "from sklearn import datasets\n",
    "from sklearn.base import ClassifierMixin\n",
    "from sklearn.datasets import fetch_mldata\n",
    "from sklearn.neighbors.base import \\\n",
    "    NeighborsBase, KNeighborsMixin,\\\n",
    "    RadiusNeighborsMixin, SupervisedIntegerMixin\n",
    "from sklearn.model_selection import train_test_split\n",
    "from sklearn.neighbors import KNeighborsClassifier\n",
    "from scipy import stats"
   ]
  },
  {
   "cell_type": "code",
   "execution_count": 3,
   "metadata": {},
   "outputs": [],
   "source": [
    "def numpy_dist(X, Y):\n",
    "    \"\"\"Функция, считающая попарные расстояния между строчками матриц X, Y.\n",
    "\n",
    "    Идейно должна лежать в каком-нибудь отдельном файле типа untils.py.\n",
    "    \"\"\"\n",
    "\n",
    "    x_dist = (X ** 2).sum(axis=1)\n",
    "    y_dist = (Y ** 2).sum(axis=1)\n",
    "    xy_dist = X.dot(Y.T)\n",
    "    dist = -2 * xy_dist + y_dist + x_dist.reshape(-1, 1)\n",
    "\n",
    "    \"\"\"Из математических соображений не могло получиться отрицательных\n",
    "    значений, поэтому обнулим их, чтобы не возникало ошибок.\"\"\"\n",
    "    return np.sqrt(np.where(dist < 0, 0, dist))\n",
    "\n",
    "\n",
    "class MyKNeighborsClassifier(NeighborsBase, KNeighborsMixin,\n",
    "                             SupervisedIntegerMixin, ClassifierMixin):\n",
    "\n",
    "    \"\"\"Данный класс представляет собой реализацию метода ближайших соседей.\n",
    "\n",
    "    В качестве основной метрики используется евклидова метрика.\n",
    "    \"\"\"\n",
    "\n",
    "    def __init__(self, n_neighbors=5):\n",
    "        self.n_neighbors = n_neighbors\n",
    "\n",
    "    def fit(self, X, y):\n",
    "        \"\"\"Обучаем выборку.\n",
    "            В качестве train data берем X.\n",
    "            В качестве target values берем y.\n",
    "\n",
    "            Требования к X -- numpy.ndarray размерности не более двух.\n",
    "            Требования к y -- numpy.ndarray размерности 1.\n",
    "            \"\"\"\n",
    "\n",
    "        isXarr = isinstance(X, np.ndarray)\n",
    "        isyarr = isinstance(y, np.ndarray)\n",
    "        if not (isXarr and isyarr) or X.ndim > 2 or y.ndim != 1:\n",
    "            raise Exception('Wrong format of X,y')\n",
    "\n",
    "        if X.ndim == 1:\n",
    "            self.X_ = X.reshape(X.shape[0], 1)\n",
    "        else:\n",
    "            self.X_ = X\n",
    "\n",
    "        self.y_ = y\n",
    "        self.classes_ = np.unique(y)\n",
    "\n",
    "    def predict(self, X):\n",
    "        \"\"\"Predict the class labels for the provided data\n",
    "\n",
    "        Parameters\n",
    "        ----------\n",
    "        X : array-like, shape (n_query, n_features),\n",
    "            Test samples.\n",
    "\n",
    "        Returns\n",
    "        -------\n",
    "        y : array of shape [n_samples]\n",
    "            Class labels for each data sample.\n",
    "        \"\"\"\n",
    "\n",
    "        isXarr = isinstance(X, np.ndarray)\n",
    "        if not isXarr or X.ndim != 2 or X.shape[1] != self.X_.shape[1]:\n",
    "            raise Exception('Wrong format of X')\n",
    "\n",
    "        classesNeighbors = self._getKNeighborsClasses(X)\n",
    "        return np.array(stats.mode(classesNeighbors, axis=1))[0].ravel()\n",
    "\n",
    "    def predict_proba(self, X):\n",
    "        classesNeighbors = self._getKNeighborsClasses(X)\n",
    "\n",
    "        probs = []\n",
    "        for cur_class in self.classes_:\n",
    "            probs.append(np.sum(cur_class == classesNeighbors, axis=1))\n",
    "\n",
    "        return np.array(probs).T / self.n_neighbors\n",
    "\n",
    "    def score(self, X, y):\n",
    "        return np.average(self.predict(X) == y)\n",
    "\n",
    "    def _getKNeighborsClasses(self, X, n_neighbors=None):\n",
    "        \"\"\"Функция возвращает классы k ближайших соседей\"\"\"\n",
    "\n",
    "        if n_neighbors is None:\n",
    "            n_neighbors = self.n_neighbors\n",
    "\n",
    "        pairwise_dist = numpy_dist(X, self.X_)\n",
    "        neigborsIndexes = np.argsort(pairwise_dist, axis=1)[:, : n_neighbors]\n",
    "        return self.y_[neigborsIndexes]"
   ]
  },
  {
   "cell_type": "markdown",
   "metadata": {},
   "source": [
    "**IRIS**"
   ]
  },
  {
   "cell_type": "code",
   "execution_count": 4,
   "metadata": {
    "collapsed": true
   },
   "outputs": [],
   "source": [
    "iris = datasets.load_iris()"
   ]
  },
  {
   "cell_type": "code",
   "execution_count": 5,
   "metadata": {
    "collapsed": true
   },
   "outputs": [],
   "source": [
    "X_train, X_test, y_train, y_test = train_test_split(iris.data, iris.target, test_size=0.1, stratify=iris.target, random_state = 45)"
   ]
  },
  {
   "cell_type": "code",
   "execution_count": 6,
   "metadata": {
    "collapsed": true
   },
   "outputs": [],
   "source": [
    "clf = KNeighborsClassifier(n_neighbors=4)\n",
    "my_clf = MyKNeighborsClassifier(n_neighbors=4)"
   ]
  },
  {
   "cell_type": "code",
   "execution_count": 7,
   "metadata": {},
   "outputs": [
    {
     "name": "stdout",
     "output_type": "stream",
     "text": [
      "CPU times: user 917 µs, sys: 195 µs, total: 1.11 ms\n",
      "Wall time: 978 µs\n"
     ]
    },
    {
     "data": {
      "text/plain": [
       "KNeighborsClassifier(algorithm='auto', leaf_size=30, metric='minkowski',\n",
       "           metric_params=None, n_jobs=1, n_neighbors=4, p=2,\n",
       "           weights='uniform')"
      ]
     },
     "execution_count": 7,
     "metadata": {},
     "output_type": "execute_result"
    }
   ],
   "source": [
    "%time clf.fit(X_train, y_train)"
   ]
  },
  {
   "cell_type": "code",
   "execution_count": 8,
   "metadata": {},
   "outputs": [
    {
     "name": "stdout",
     "output_type": "stream",
     "text": [
      "CPU times: user 349 µs, sys: 92 µs, total: 441 µs\n",
      "Wall time: 370 µs\n"
     ]
    }
   ],
   "source": [
    "%time my_clf.fit(X_train, y_train)"
   ]
  },
  {
   "cell_type": "code",
   "execution_count": 9,
   "metadata": {},
   "outputs": [
    {
     "name": "stdout",
     "output_type": "stream",
     "text": [
      "CPU times: user 1.03 ms, sys: 84 µs, total: 1.11 ms\n",
      "Wall time: 1.1 ms\n"
     ]
    },
    {
     "data": {
      "text/plain": [
       "array([1, 1, 0, 1, 0, 2, 1, 2, 1, 1, 0, 0, 0, 1, 2])"
      ]
     },
     "execution_count": 9,
     "metadata": {},
     "output_type": "execute_result"
    }
   ],
   "source": [
    "%time clf.predict(X_test)"
   ]
  },
  {
   "cell_type": "code",
   "execution_count": 10,
   "metadata": {},
   "outputs": [
    {
     "name": "stdout",
     "output_type": "stream",
     "text": [
      "CPU times: user 746 µs, sys: 367 µs, total: 1.11 ms\n",
      "Wall time: 777 µs\n"
     ]
    },
    {
     "data": {
      "text/plain": [
       "array([1, 1, 0, 1, 0, 2, 1, 2, 1, 1, 0, 0, 0, 1, 2])"
      ]
     },
     "execution_count": 10,
     "metadata": {},
     "output_type": "execute_result"
    }
   ],
   "source": [
    "%time my_clf.predict(X_test)"
   ]
  },
  {
   "cell_type": "code",
   "execution_count": 11,
   "metadata": {},
   "outputs": [
    {
     "name": "stdout",
     "output_type": "stream",
     "text": [
      "CPU times: user 487 µs, sys: 11 µs, total: 498 µs\n",
      "Wall time: 504 µs\n"
     ]
    },
    {
     "data": {
      "text/plain": [
       "array([[0.  , 0.5 , 0.5 ],\n",
       "       [0.  , 1.  , 0.  ],\n",
       "       [1.  , 0.  , 0.  ],\n",
       "       [0.  , 1.  , 0.  ],\n",
       "       [1.  , 0.  , 0.  ],\n",
       "       [0.  , 0.  , 1.  ],\n",
       "       [0.  , 1.  , 0.  ],\n",
       "       [0.  , 0.  , 1.  ],\n",
       "       [0.  , 1.  , 0.  ],\n",
       "       [0.  , 1.  , 0.  ],\n",
       "       [1.  , 0.  , 0.  ],\n",
       "       [1.  , 0.  , 0.  ],\n",
       "       [1.  , 0.  , 0.  ],\n",
       "       [0.  , 0.75, 0.25],\n",
       "       [0.  , 0.  , 1.  ]])"
      ]
     },
     "execution_count": 11,
     "metadata": {},
     "output_type": "execute_result"
    }
   ],
   "source": [
    "%time clf.predict_proba(X_test)"
   ]
  },
  {
   "cell_type": "code",
   "execution_count": 12,
   "metadata": {},
   "outputs": [
    {
     "name": "stdout",
     "output_type": "stream",
     "text": [
      "CPU times: user 884 µs, sys: 702 µs, total: 1.59 ms\n",
      "Wall time: 954 µs\n"
     ]
    },
    {
     "data": {
      "text/plain": [
       "array([[0.  , 0.5 , 0.5 ],\n",
       "       [0.  , 1.  , 0.  ],\n",
       "       [1.  , 0.  , 0.  ],\n",
       "       [0.  , 1.  , 0.  ],\n",
       "       [1.  , 0.  , 0.  ],\n",
       "       [0.  , 0.  , 1.  ],\n",
       "       [0.  , 1.  , 0.  ],\n",
       "       [0.  , 0.  , 1.  ],\n",
       "       [0.  , 1.  , 0.  ],\n",
       "       [0.  , 1.  , 0.  ],\n",
       "       [1.  , 0.  , 0.  ],\n",
       "       [1.  , 0.  , 0.  ],\n",
       "       [1.  , 0.  , 0.  ],\n",
       "       [0.  , 0.75, 0.25],\n",
       "       [0.  , 0.  , 1.  ]])"
      ]
     },
     "execution_count": 12,
     "metadata": {},
     "output_type": "execute_result"
    }
   ],
   "source": [
    "%time my_clf.predict_proba(X_test)"
   ]
  },
  {
   "cell_type": "code",
   "execution_count": 13,
   "metadata": {},
   "outputs": [
    {
     "data": {
      "text/plain": [
       "0.8666666666666667"
      ]
     },
     "execution_count": 13,
     "metadata": {},
     "output_type": "execute_result"
    }
   ],
   "source": [
    "clf.score(X_test, y_test)"
   ]
  },
  {
   "cell_type": "code",
   "execution_count": 14,
   "metadata": {},
   "outputs": [
    {
     "data": {
      "text/plain": [
       "0.8666666666666667"
      ]
     },
     "execution_count": 14,
     "metadata": {},
     "output_type": "execute_result"
    }
   ],
   "source": [
    "my_clf.score(X_test, y_test)"
   ]
  },
  {
   "cell_type": "code",
   "execution_count": 15,
   "metadata": {},
   "outputs": [
    {
     "data": {
      "image/png": "[encoded data removed]",
      "text/plain": [
       "<matplotlib.figure.Figure at 0x1c2ffc9b00>"
      ]
     },
     "metadata": {},
     "output_type": "display_data"
    },
    {
     "name": "stdout",
     "output_type": "stream",
     "text": [
      "\n",
      "\n",
      "Максимальное значение score достигается при количестве соседей равным 6\n"
     ]
    }
   ],
   "source": [
    "# Задание 3\n",
    "\n",
    "errors_train = []\n",
    "errors_test = []\n",
    "neighbors_range = range(2, 30)\n",
    "for k in neighbors_range:\n",
    "    my_knn = MyKNeighborsClassifier(k)\n",
    "    my_knn.fit(X_train, y_train)\n",
    "\n",
    "    errors_train.append(my_knn.score(X_train, y_train))\n",
    "    errors_test.append(my_knn.score(X_test, y_test))\n",
    "\n",
    "plt.plot(neighbors_range, errors_train, color='blue', label='train')\n",
    "plt.plot(neighbors_range, errors_test, color='red', label='test')\n",
    "plt.legend()\n",
    "plt.show()\n",
    "print(\"\\n\\nМаксимальное значение score достигается \"\n",
    "      \"при количестве соседей равным\", np.argmax(errors_test))"
   ]
  },
  {
   "cell_type": "markdown",
   "metadata": {},
   "source": [
    "**MNIST**"
   ]
  },
  {
   "cell_type": "code",
   "execution_count": null,
   "metadata": {
    "collapsed": true
   },
   "outputs": [],
   "source": [
    "ABC = fetch_mldata('MNIST original')"
   ]
  },
  {
   "cell_type": "code",
   "execution_count": null,
   "metadata": {
    "collapsed": true
   },
   "outputs": [],
   "source": [
    "X_train, X_test, y_train, y_test = train_test_split(mnist.data, mnist.target, test_size=0.1, stratify=mnist.target)"
   ]
  },
  {
   "cell_type": "code",
   "execution_count": 16,
   "metadata": {},
   "outputs": [
    {
     "name": "stdout",
     "output_type": "stream",
     "text": [
      "Extracting MNIST_data/train-images-idx3-ubyte.gz\n",
      "Extracting MNIST_data/train-labels-idx1-ubyte.gz\n",
      "Extracting MNIST_data/t10k-images-idx3-ubyte.gz\n",
      "Extracting MNIST_data/t10k-labels-idx1-ubyte.gz\n"
     ]
    }
   ],
   "source": [
    "\"\"\"К сожалению, у меня не заработала fetch_mldata, поэтому использовал \n",
    "следующий код для работы с данными. Для его выполнения должен стоять\n",
    "пакет tensorflow\n",
    "\"\"\"\n",
    "\n",
    "from tensorflow.examples.tutorials.mnist import input_data\n",
    "mnist = input_data.read_data_sets(\"MNIST_data/\")\n",
    "\n",
    "X_train, X_test, y_train, y_test = train_test_split(mnist.train.images, mnist.train.labels, test_size=0.1, stratify=mnist.train.labels)"
   ]
  },
  {
   "cell_type": "code",
   "execution_count": 17,
   "metadata": {
    "collapsed": true
   },
   "outputs": [],
   "source": [
    "clf = KNeighborsClassifier(n_neighbors=2)\n",
    "my_clf = MyKNeighborsClassifier(n_neighbors=2)"
   ]
  },
  {
   "cell_type": "code",
   "execution_count": 18,
   "metadata": {},
   "outputs": [
    {
     "name": "stdout",
     "output_type": "stream",
     "text": [
      "CPU times: user 20.7 s, sys: 299 ms, total: 21 s\n",
      "Wall time: 21.3 s\n"
     ]
    },
    {
     "data": {
      "text/plain": [
       "KNeighborsClassifier(algorithm='auto', leaf_size=30, metric='minkowski',\n",
       "           metric_params=None, n_jobs=1, n_neighbors=2, p=2,\n",
       "           weights='uniform')"
      ]
     },
     "execution_count": 18,
     "metadata": {},
     "output_type": "execute_result"
    }
   ],
   "source": [
    "%time clf.fit(X_train, y_train)"
   ]
  },
  {
   "cell_type": "code",
   "execution_count": 19,
   "metadata": {},
   "outputs": [
    {
     "name": "stdout",
     "output_type": "stream",
     "text": [
      "CPU times: user 1.78 ms, sys: 513 µs, total: 2.29 ms\n",
      "Wall time: 1.33 ms\n"
     ]
    }
   ],
   "source": [
    "%time my_clf.fit(X_train, y_train)"
   ]
  },
  {
   "cell_type": "code",
   "execution_count": 20,
   "metadata": {},
   "outputs": [
    {
     "name": "stdout",
     "output_type": "stream",
     "text": [
      "CPU times: user 5min 3s, sys: 2.44 s, total: 5min 5s\n",
      "Wall time: 5min 10s\n"
     ]
    },
    {
     "data": {
      "text/plain": [
       "array([4, 2, 7, ..., 1, 3, 6], dtype=uint8)"
      ]
     },
     "execution_count": 20,
     "metadata": {},
     "output_type": "execute_result"
    }
   ],
   "source": [
    "%time clf.predict(X_test)"
   ]
  },
  {
   "cell_type": "code",
   "execution_count": 21,
   "metadata": {},
   "outputs": [
    {
     "name": "stdout",
     "output_type": "stream",
     "text": [
      "CPU times: user 37.4 s, sys: 6.61 s, total: 44 s\n",
      "Wall time: 39.1 s\n"
     ]
    },
    {
     "data": {
      "text/plain": [
       "array([4, 2, 7, ..., 1, 3, 6])"
      ]
     },
     "execution_count": 21,
     "metadata": {},
     "output_type": "execute_result"
    }
   ],
   "source": [
    "%time my_clf.predict(X_test)"
   ]
  },
  {
   "cell_type": "code",
   "execution_count": 22,
   "metadata": {},
   "outputs": [
    {
     "name": "stdout",
     "output_type": "stream",
     "text": [
      "CPU times: user 5min 2s, sys: 2.54 s, total: 5min 5s\n",
      "Wall time: 5min 9s\n"
     ]
    },
    {
     "data": {
      "text/plain": [
       "array([[0., 0., 0., ..., 0., 0., 0.],\n",
       "       [0., 0., 1., ..., 0., 0., 0.],\n",
       "       [0., 0., 0., ..., 1., 0., 0.],\n",
       "       ...,\n",
       "       [0., 1., 0., ..., 0., 0., 0.],\n",
       "       [0., 0., 0., ..., 0., 0., 0.],\n",
       "       [0., 0., 0., ..., 0., 0., 0.]])"
      ]
     },
     "execution_count": 22,
     "metadata": {},
     "output_type": "execute_result"
    }
   ],
   "source": [
    "%time clf.predict_proba(X_test)"
   ]
  },
  {
   "cell_type": "code",
   "execution_count": 23,
   "metadata": {},
   "outputs": [
    {
     "name": "stdout",
     "output_type": "stream",
     "text": [
      "CPU times: user 37.9 s, sys: 6.77 s, total: 44.7 s\n",
      "Wall time: 40.3 s\n"
     ]
    },
    {
     "data": {
      "text/plain": [
       "array([[0., 0., 0., ..., 0., 0., 0.],\n",
       "       [0., 0., 1., ..., 0., 0., 0.],\n",
       "       [0., 0., 0., ..., 1., 0., 0.],\n",
       "       ...,\n",
       "       [0., 1., 0., ..., 0., 0., 0.],\n",
       "       [0., 0., 0., ..., 0., 0., 0.],\n",
       "       [0., 0., 0., ..., 0., 0., 0.]])"
      ]
     },
     "execution_count": 23,
     "metadata": {},
     "output_type": "execute_result"
    }
   ],
   "source": [
    "%time my_clf.predict_proba(X_test)"
   ]
  },
  {
   "cell_type": "code",
   "execution_count": 24,
   "metadata": {},
   "outputs": [
    {
     "data": {
      "text/plain": [
       "0.97"
      ]
     },
     "execution_count": 24,
     "metadata": {},
     "output_type": "execute_result"
    }
   ],
   "source": [
    "clf.score(X_test, y_test)"
   ]
  },
  {
   "cell_type": "code",
   "execution_count": 25,
   "metadata": {},
   "outputs": [
    {
     "data": {
      "text/plain": [
       "0.97"
      ]
     },
     "execution_count": 25,
     "metadata": {},
     "output_type": "execute_result"
    }
   ],
   "source": [
    "my_clf.score(X_test, y_test)"
   ]
  },
  {
   "cell_type": "markdown",
   "metadata": {},
   "source": [
    "Задание 5"
   ]
  },
  {
   "cell_type": "code",
   "execution_count": null,
   "metadata": {
    "collapsed": true
   },
   "outputs": [],
   "source": [
    "# seaborn\n",
    "'''\n",
    "Seaborn - это питоновская библиотека для визуалиции данных, имеющая в \n",
    "качестве основы matplotlib. Представляет собой высокоуровневый инструмент \n",
    "для рисования привлекательных статистических графиков. \n",
    "'''\n",
    "\n",
    "# matplotlib\n",
    "'''\n",
    "Matplotlib - это питоновская библитека для создания 2D изображений графиков, \n",
    "различного рода фигур и интерактивных окружений. \n",
    "'''\n",
    "\n",
    "# train_test_split\n",
    "'''\n",
    "Разбивает массив данных или матрицу на тренировочное и тестовое подмножества.\n",
    "'''\n",
    "\n",
    "# Pipelin%load_ext e (from sklearn.pipeline import Pipeline)\n",
    "'''\n",
    "Pipeline может быть использован, чтобы соединить несколько алгоритмов (или методов) в один.\n",
    "Pipeline - вещь нужная, так как часто существует вполне определенная последовательность щагов в обработке\n",
    "данных, например, отбор значимых признаков, нормировка и классификация. \n",
    "'''\n",
    "\n",
    "# StandardScaler (from sklearn.preprocessing import StandardScaler)\n",
    "'''\n",
    "StandardScaler нужен для стандартизации признаков. Алгоритм прост: вычитаем среднее\n",
    "и нормируем до единичной дисперсии.\n",
    "'''\n",
    "\n",
    "# ClassifierMixin\n",
    "'''\n",
    "Класс - \"примесь\" с одним методом score. Нужен для подсчета числовой характеристики \n",
    "работоспособности метода классификации. \n",
    "'''\n",
    "\n",
    "# NeighborsBase\n",
    "'''\n",
    "Класс-основа для всех вариаций метода ближайших соседей. \n",
    "'''\n",
    "\n",
    "# KNeighborsMixin\n",
    "'''\n",
    "Класс - \"примесь\" для поиска k ближайших соседей. \n",
    "Имеет два метода: \n",
    "1. def kneighbors(self, X=None, n_neighbors=None, return_distance=True) \n",
    "        Находит K соседей данной точки\n",
    "2. def kneighbors_graph(self, X=None, n_neighbors=None,\n",
    "                         mode='connectivity')\n",
    "        Вычисляет (взвешенный) граф k-cоседей для точек из X\n",
    "'''\n",
    "\n",
    "# SupervisedIntegerMixin\n",
    "'''\n",
    "Класс - \"примесь\" с одним единственным методом fit(self, X, y), предназначенной для обучения\n",
    "модели, использующую X как train data, а y как target values\n",
    "'''"
   ]
  }
 ],
 "metadata": {
  "kernelspec": {
   "display_name": "Python 3",
   "language": "python",
   "name": "python3"
  },
  "language_info": {
   "codemirror_mode": {
    "name": "ipython",
    "version": 3
   },
   "file_extension": ".py",
   "mimetype": "text/x-python",
   "name": "python",
   "nbconvert_exporter": "python",
   "pygments_lexer": "ipython3",
   "version": "3.6.1"
  }
 },
 "nbformat": 4,
 "nbformat_minor": 2
}
