{
 "cells": [
  {
   "cell_type": "code",
   "execution_count": 2,
   "metadata": {
    "collapsed": true
   },
   "outputs": [],
   "source": [
    "import requests\n",
    "from multiprocessing.dummy import Pool as ThreadPool\n",
    "from lxml import etree\n",
    "from bs4 import BeautifulSoup\n",
    "import pandas as pd\n",
    "import numpy as np"
   ]
  },
  {
   "cell_type": "code",
   "execution_count": 3,
   "metadata": {
    "collapsed": true
   },
   "outputs": [],
   "source": [
    "def moneyfrom(in_str):\n",
    "    get_data = [int(s) for s in \n",
    "                in_str.replace(\"-\", \" \").replace(\"–\", \" \").split(\" \") if s.isdigit()]\n",
    "    if len(get_data) == 2:\n",
    "        if get_data[0] == 700:\n",
    "            return 2\n",
    "        if get_data[0] == 1500:\n",
    "            return 3\n",
    "    else:\n",
    "        if get_data[0] == 700:\n",
    "            return 1\n",
    "        if get_data[0] == 2500:\n",
    "            return 4\n",
    "\n",
    "def getInfoFromResponse(data, resp, num_resp):\n",
    "    if resp.status_code != 200:\n",
    "        print(\"Error\", num_resp)\n",
    "        return\n",
    "    if num_resp % 20 == 0:   \n",
    "        print(resp, num_resp)\n",
    "    bs = BeautifulSoup(resp.text, 'lxml')\n",
    "    for item in bs.find_all('div', 'places_info'): \n",
    "        find_name = item.find('span', 'places_name')\n",
    "        if find_name is not None: \n",
    "            name = find_name.text.strip()\n",
    "        else: \n",
    "            name = None\n",
    "\n",
    "        find_address = item.find('span', 'places_address')\n",
    "        if find_address is not None:     \n",
    "            address = find_address.text.strip()\n",
    "        else: \n",
    "            address = None\n",
    "\n",
    "        find_metro = item.find('span', 'places_metro')\n",
    "        if find_metro is not None:     \n",
    "            metro = find_metro.text.strip()[3:]\n",
    "        else: \n",
    "            metro = None\n",
    "\n",
    "        find_rating = item.find('div', 'rating_number')\n",
    "        if find_rating is not None: \n",
    "            rating = item.find('div', 'rating_number').text.strip()\n",
    "        else:\n",
    "            rating = None\n",
    "        \n",
    "        find_money = item.find('span', \"range s-tooltip\")\n",
    "        if find_money is not None:\n",
    "            money = moneyfrom(find_money.get(\"data-title\"))\n",
    "        else:\n",
    "            money = None\n",
    "\n",
    "        data.append((name, address, metro, rating, money))"
   ]
  },
  {
   "cell_type": "code",
   "execution_count": 4,
   "metadata": {},
   "outputs": [
    {
     "name": "stdout",
     "output_type": "stream",
     "text": [
      "<Response [200]> 60\n",
      "<Response [200]> 20\n",
      "<Response [200]> 80\n",
      "<Response [200]> 40\n",
      "<Response [200]> 100\n",
      "<Response [200]> 120\n",
      "<Response [200]> 180\n",
      "<Response [200]> 140\n",
      "<Response [200]> 200\n",
      "<Response [200]> 160\n",
      "<Response [200]> 220\n",
      "<Response [200]> 240\n",
      "<Response [200]> 300\n",
      "<Response [200]> 260\n",
      "<Response [200]> 320\n",
      "<Response [200]> 280\n",
      "<Response [200]> 340\n",
      "<Response [200]> 360\n",
      "<Response [200]> 420\n",
      "Error 428\n",
      "Error 429\n",
      "Error 430\n",
      "Error 431\n",
      "Error 432\n",
      "Error 433\n",
      "Error 434\n",
      "Error 435\n",
      "Error 436\n",
      "Error 437\n",
      "Error 438\n",
      "Error 439\n",
      "Error 440\n",
      "Error 441\n",
      "Error 442\n",
      "Error 443\n",
      "Error 444\n",
      "Error 445\n",
      "Error 446\n",
      "Error 447\n",
      "Error 448\n",
      "Error 449\n",
      "Error 450\n",
      "Error 451\n",
      "Error 452\n",
      "<Response [200]> 380\n",
      "<Response [200]> 400\n"
     ]
    }
   ],
   "source": [
    "data = list()\n",
    "FIRST_URL = \"https://www.afisha.ru/msk/restaurants/restaurant_list/\"\n",
    "first_resp = requests.get(FIRST_URL)\n",
    "getInfoFromResponse(data, first_resp, 1)\n",
    "\n",
    "t = ThreadPool(2)\n",
    "start_page = 2\n",
    "end_page = 453\n",
    "r = t.map(lambda x: getInfoFromResponse(data, \n",
    "                    requests.get(\"https://www.afisha.ru/msk/restaurants/restaurant_list/page%d/?view=list\" % x), x), \n",
    "          range(start_page, end_page))\n",
    "t.close()\n",
    "t.join()"
   ]
  },
  {
   "cell_type": "code",
   "execution_count": 5,
   "metadata": {},
   "outputs": [],
   "source": [
    "df = pd.DataFrame(np.array(data, dtype = object), columns=[\"Name\", \"Address\", \"Metro\", \"Rating\", \"Money\"])"
   ]
  },
  {
   "cell_type": "code",
   "execution_count": 6,
   "metadata": {
    "collapsed": true
   },
   "outputs": [],
   "source": [
    "df.to_csv(\"parsed_afisha.csv\", sep=',', encoding='utf-8')"
   ]
  },
  {
   "cell_type": "code",
   "execution_count": 11,
   "metadata": {
    "collapsed": true
   },
   "outputs": [],
   "source": [
    "df = df.from_csv(\"parsed_afisha.csv\", sep=',', encoding='utf-8')"
   ]
  },
  {
   "cell_type": "code",
   "execution_count": 14,
   "metadata": {
    "collapsed": true
   },
   "outputs": [],
   "source": [
    "df = df.sort_values('Rating', ascending=False).dropna()"
   ]
  },
  {
   "cell_type": "code",
   "execution_count": 15,
   "metadata": {},
   "outputs": [
    {
     "data": {
      "text/plain": [
       "(1246, 5)"
      ]
     },
     "execution_count": 15,
     "metadata": {},
     "output_type": "execute_result"
    }
   ],
   "source": [
    "df.shape"
   ]
  },
  {
   "cell_type": "code",
   "execution_count": 18,
   "metadata": {},
   "outputs": [
    {
     "data": {
      "text/html": [
       "<div>\n",
       "<style>\n",
       "    .dataframe thead tr:only-child th {\n",
       "        text-align: right;\n",
       "    }\n",
       "\n",
       "    .dataframe thead th {\n",
       "        text-align: left;\n",
       "    }\n",
       "\n",
       "    .dataframe tbody tr th {\n",
       "        vertical-align: top;\n",
       "    }\n",
       "</style>\n",
       "<table border=\"1\" class=\"dataframe\">\n",
       "  <thead>\n",
       "    <tr style=\"text-align: right;\">\n",
       "      <th></th>\n",
       "      <th>Name</th>\n",
       "      <th>Address</th>\n",
       "      <th>Metro</th>\n",
       "      <th>Rating</th>\n",
       "      <th>Money</th>\n",
       "    </tr>\n",
       "  </thead>\n",
       "  <tbody>\n",
       "    <tr>\n",
       "      <th>1</th>\n",
       "      <td>Beer Happens</td>\n",
       "      <td>Сретенка, 24/2, стр. 1</td>\n",
       "      <td>Сухаревская</td>\n",
       "      <td>9.1</td>\n",
       "      <td>2.0</td>\n",
       "    </tr>\n",
       "    <tr>\n",
       "      <th>2</th>\n",
       "      <td>Винный базар на Комсомольском</td>\n",
       "      <td>Комсомольский просп., 14/1, корп. 2</td>\n",
       "      <td>Парк культуры</td>\n",
       "      <td>9.1</td>\n",
       "      <td>2.0</td>\n",
       "    </tr>\n",
       "    <tr>\n",
       "      <th>3</th>\n",
       "      <td>Grammy's</td>\n",
       "      <td>Кутузовский просп., 2/1, стр. 6, в Конгресс-па...</td>\n",
       "      <td>Киевская</td>\n",
       "      <td>9.0</td>\n",
       "      <td>3.0</td>\n",
       "    </tr>\n",
       "    <tr>\n",
       "      <th>4</th>\n",
       "      <td>Mitzva Bar</td>\n",
       "      <td>Пятницкая, 3/4, стр. 1</td>\n",
       "      <td>Новокузнецкая, Третьяковская</td>\n",
       "      <td>9.0</td>\n",
       "      <td>2.0</td>\n",
       "    </tr>\n",
       "    <tr>\n",
       "      <th>5</th>\n",
       "      <td>Боэми</td>\n",
       "      <td>Рочдельская, 11/5</td>\n",
       "      <td>Краснопресненская, Баррикадная</td>\n",
       "      <td>9.0</td>\n",
       "      <td>3.0</td>\n",
       "    </tr>\n",
       "    <tr>\n",
       "      <th>6</th>\n",
       "      <td>Lumberjack Bar</td>\n",
       "      <td>Б.Спасоглинищевский пер., 3, стр. 5</td>\n",
       "      <td>Китай-город</td>\n",
       "      <td>9.0</td>\n",
       "      <td>3.0</td>\n",
       "    </tr>\n",
       "    <tr>\n",
       "      <th>7</th>\n",
       "      <td>Бутчер</td>\n",
       "      <td>Лубянский пр., 15/2</td>\n",
       "      <td>Китай-город</td>\n",
       "      <td>9.0</td>\n",
       "      <td>4.0</td>\n",
       "    </tr>\n",
       "    <tr>\n",
       "      <th>8</th>\n",
       "      <td>Лейка</td>\n",
       "      <td>Головинское ш., 5, ТЦ «Водный», 3 этаж</td>\n",
       "      <td>Водный стадион</td>\n",
       "      <td>9.0</td>\n",
       "      <td>2.0</td>\n",
       "    </tr>\n",
       "    <tr>\n",
       "      <th>12</th>\n",
       "      <td>Let's Rock Bar</td>\n",
       "      <td>Кузнецкий Мост, 4</td>\n",
       "      <td>Охотный Ряд, Театральная, Площадь Революции</td>\n",
       "      <td>8.9</td>\n",
       "      <td>2.0</td>\n",
       "    </tr>\n",
       "    <tr>\n",
       "      <th>13</th>\n",
       "      <td>AQ Chicken</td>\n",
       "      <td>Трехпрудный пер., 11/13, стр. 2</td>\n",
       "      <td>Тверская, Пушкинская, Чеховская</td>\n",
       "      <td>8.9</td>\n",
       "      <td>3.0</td>\n",
       "    </tr>\n",
       "  </tbody>\n",
       "</table>\n",
       "</div>"
      ],
      "text/plain": [
       "                             Name  \\\n",
       "1                    Beer Happens   \n",
       "2   Винный базар на Комсомольском   \n",
       "3                        Grammy's   \n",
       "4                      Mitzva Bar   \n",
       "5                           Боэми   \n",
       "6                  Lumberjack Bar   \n",
       "7                          Бутчер   \n",
       "8                           Лейка   \n",
       "12                 Let's Rock Bar   \n",
       "13                     AQ Chicken   \n",
       "\n",
       "                                              Address  \\\n",
       "1                              Сретенка, 24/2, стр. 1   \n",
       "2                 Комсомольский просп., 14/1, корп. 2   \n",
       "3   Кутузовский просп., 2/1, стр. 6, в Конгресс-па...   \n",
       "4                              Пятницкая, 3/4, стр. 1   \n",
       "5                                   Рочдельская, 11/5   \n",
       "6                 Б.Спасоглинищевский пер., 3, стр. 5   \n",
       "7                                 Лубянский пр., 15/2   \n",
       "8              Головинское ш., 5, ТЦ «Водный», 3 этаж   \n",
       "12                                  Кузнецкий Мост, 4   \n",
       "13                    Трехпрудный пер., 11/13, стр. 2   \n",
       "\n",
       "                                          Metro  Rating  Money  \n",
       "1                                   Сухаревская     9.1    2.0  \n",
       "2                                 Парк культуры     9.1    2.0  \n",
       "3                                      Киевская     9.0    3.0  \n",
       "4                  Новокузнецкая, Третьяковская     9.0    2.0  \n",
       "5                Краснопресненская, Баррикадная     9.0    3.0  \n",
       "6                                   Китай-город     9.0    3.0  \n",
       "7                                   Китай-город     9.0    4.0  \n",
       "8                                Водный стадион     9.0    2.0  \n",
       "12  Охотный Ряд, Театральная, Площадь Революции     8.9    2.0  \n",
       "13              Тверская, Пушкинская, Чеховская     8.9    3.0  "
      ]
     },
     "execution_count": 18,
     "metadata": {},
     "output_type": "execute_result"
    }
   ],
   "source": [
    "df.head(10)"
   ]
  }
 ],
 "metadata": {
  "kernelspec": {
   "display_name": "Python 3",
   "language": "python",
   "name": "python3"
  },
  "language_info": {
   "codemirror_mode": {
    "name": "ipython",
    "version": 3
   },
   "file_extension": ".py",
   "mimetype": "text/x-python",
   "name": "python",
   "nbconvert_exporter": "python",
   "pygments_lexer": "ipython3",
   "version": "3.6.1"
  }
 },
 "nbformat": 4,
 "nbformat_minor": 2
}
