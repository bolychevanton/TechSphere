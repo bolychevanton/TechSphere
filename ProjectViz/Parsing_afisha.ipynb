{
 "cells": [
  {
   "cell_type": "code",
   "execution_count": 29,
   "metadata": {
    "collapsed": true
   },
   "outputs": [],
   "source": [
    "import requests\n",
    "from multiprocessing.dummy import Pool as ThreadPool\n",
    "from lxml import etree\n",
    "from bs4 import BeautifulSoup\n",
    "import pandas as pd\n",
    "import numpy as np"
   ]
  },
  {
   "cell_type": "code",
   "execution_count": 3,
   "metadata": {
    "collapsed": true
   },
   "outputs": [],
   "source": [
    "def moneyfrom(in_str):\n",
    "    get_data = [int(s) for s in \n",
    "                in_str.replace(\"-\", \" \").replace(\"–\", \" \").split(\" \") if s.isdigit()]\n",
    "    if len(get_data) == 2:\n",
    "        if get_data[0] == 700:\n",
    "            return 2\n",
    "        if get_data[0] == 1500:\n",
    "            return 3\n",
    "    else:\n",
    "        if get_data[0] == 700:\n",
    "            return 1\n",
    "        if get_data[0] == 2500:\n",
    "            return 4\n",
    "\n",
    "def getInfoFromResponse(data, resp, num_resp):\n",
    "    if resp.status_code != 200:\n",
    "        print(\"Error\", num_resp)\n",
    "        return\n",
    "    if num_resp % 20 == 0:   \n",
    "        print(resp, num_resp)\n",
    "    bs = BeautifulSoup(resp.text, 'lxml')\n",
    "    for item in bs.find_all('div', 'places_info'): \n",
    "        find_name = item.find('span', 'places_name')\n",
    "        if find_name is not None: \n",
    "            name = find_name.text.strip()\n",
    "        else: \n",
    "            name = None\n",
    "\n",
    "        find_address = item.find('span', 'places_address')\n",
    "        if find_address is not None:     \n",
    "            address = find_address.text.strip()\n",
    "        else: \n",
    "            address = None\n",
    "\n",
    "        find_metro = item.find('span', 'places_metro')\n",
    "        if find_metro is not None:     \n",
    "            metro = find_metro.text.strip()[3:]\n",
    "        else: \n",
    "            metro = None\n",
    "\n",
    "        find_rating = item.find('div', 'rating_number')\n",
    "        if find_rating is not None: \n",
    "            rating = item.find('div', 'rating_number').text.strip()\n",
    "        else:\n",
    "            rating = None\n",
    "        \n",
    "        find_money = item.find('span', \"range s-tooltip\")\n",
    "        if find_money is not None:\n",
    "            money = moneyfrom(find_money.get(\"data-title\"))\n",
    "        else:\n",
    "            money = None\n",
    "\n",
    "        data.append((name, address, metro, rating, money))"
   ]
  },
  {
   "cell_type": "code",
   "execution_count": 4,
   "metadata": {},
   "outputs": [
    {
     "name": "stdout",
     "output_type": "stream",
     "text": [
      "<Response [200]> 60\n",
      "<Response [200]> 20\n",
      "<Response [200]> 80\n",
      "<Response [200]> 40\n",
      "<Response [200]> 100\n",
      "<Response [200]> 120\n",
      "<Response [200]> 180\n",
      "<Response [200]> 140\n",
      "<Response [200]> 200\n",
      "<Response [200]> 160\n",
      "<Response [200]> 220\n",
      "<Response [200]> 240\n",
      "<Response [200]> 300\n",
      "<Response [200]> 260\n",
      "<Response [200]> 320\n",
      "<Response [200]> 280\n",
      "<Response [200]> 340\n",
      "<Response [200]> 360\n",
      "<Response [200]> 420\n",
      "Error 428\n",
      "Error 429\n",
      "Error 430\n",
      "Error 431\n",
      "Error 432\n",
      "Error 433\n",
      "Error 434\n",
      "Error 435\n",
      "Error 436\n",
      "Error 437\n",
      "Error 438\n",
      "Error 439\n",
      "Error 440\n",
      "Error 441\n",
      "Error 442\n",
      "Error 443\n",
      "Error 444\n",
      "Error 445\n",
      "Error 446\n",
      "Error 447\n",
      "Error 448\n",
      "Error 449\n",
      "Error 450\n",
      "Error 451\n",
      "Error 452\n",
      "<Response [200]> 380\n",
      "<Response [200]> 400\n"
     ]
    }
   ],
   "source": [
    "data = list()\n",
    "FIRST_URL = \"https://www.afisha.ru/msk/restaurants/restaurant_list/\"\n",
    "first_resp = requests.get(FIRST_URL)\n",
    "getInfoFromResponse(data, first_resp, 1)\n",
    "\n",
    "t = ThreadPool(2)\n",
    "start_page = 2\n",
    "end_page = 453\n",
    "r = t.map(lambda x: getInfoFromResponse(data, \n",
    "                    requests.get(\"https://www.afisha.ru/msk/restaurants/restaurant_list/page%d/?view=list\" % x), x), \n",
    "          range(start_page, end_page))\n",
    "t.close()\n",
    "t.join()"
   ]
  },
  {
   "cell_type": "code",
   "execution_count": null,
   "metadata": {
    "collapsed": true
   },
   "outputs": [],
   "source": [
    "df = pd.DataFrame(np.array(data, dtype = object), columns=[\"Name\", \"Address\", \"Metro\", \"Rating\", \"Money\"])"
   ]
  },
  {
   "cell_type": "code",
   "execution_count": 6,
   "metadata": {
    "collapsed": true
   },
   "outputs": [],
   "source": [
    "df.to_csv(\"parsed_afisha.csv\", sep=',', encoding='utf-8')"
   ]
  },
  {
   "cell_type": "code",
   "execution_count": 31,
   "metadata": {
    "collapsed": true
   },
   "outputs": [],
   "source": [
    "df = pd.DataFrame.from_csv(\"parsed_afisha.csv\", sep=',', encoding='utf-8')"
   ]
  },
  {
   "cell_type": "code",
   "execution_count": 32,
   "metadata": {
    "collapsed": true
   },
   "outputs": [],
   "source": [
    "df = df.sort_values('Rating', ascending=False).dropna()"
   ]
  },
  {
   "cell_type": "code",
   "execution_count": 33,
   "metadata": {},
   "outputs": [
    {
     "data": {
      "text/plain": [
       "(1246, 5)"
      ]
     },
     "execution_count": 33,
     "metadata": {},
     "output_type": "execute_result"
    }
   ],
   "source": [
    "df.shape"
   ]
  },
  {
   "cell_type": "code",
   "execution_count": 36,
   "metadata": {},
   "outputs": [
    {
     "data": {
      "text/plain": [
       "Name                   Чито-Ра\n",
       "Address         Казакова, 10/2\n",
       "Metro      Курская, Чкаловская\n",
       "Rating                     8.3\n",
       "Money                        1\n",
       "Name: 245, dtype: object"
      ]
     },
     "execution_count": 36,
     "metadata": {},
     "output_type": "execute_result"
    }
   ],
   "source": [
    "df.iloc[113]"
   ]
  },
  {
   "cell_type": "code",
   "execution_count": 2,
   "metadata": {
    "collapsed": true
   },
   "outputs": [],
   "source": [
    "resp = requests.get(\"http://metro.mwmoskva.ru/stancii-spisok/po_rajonam/\")"
   ]
  },
  {
   "cell_type": "code",
   "execution_count": 4,
   "metadata": {},
   "outputs": [],
   "source": [
    "bs = BeautifulSoup(resp.text, 'lxml')"
   ]
  },
  {
   "cell_type": "code",
   "execution_count": 41,
   "metadata": {},
   "outputs": [],
   "source": [
    "names = list()\n",
    "for item in bs.find_all(\"div\", \"list-title\"):\n",
    "    names.append(item.text)"
   ]
  },
  {
   "cell_type": "code",
   "execution_count": 17,
   "metadata": {},
   "outputs": [],
   "source": [
    "metro = list()\n",
    "for list_item in bs.find_all(\"ul\", \"list-content\"):\n",
    "    metro_names = list()\n",
    "    for metro_name in list_item.find_all(\"div\", \"list-name\"):\n",
    "        metro_names.append(metro_name.text.strip())\n",
    "    metro.append(metro_names)"
   ]
  },
  {
   "cell_type": "code",
   "execution_count": 42,
   "metadata": {},
   "outputs": [
    {
     "data": {
      "text/plain": [
       "['в Академическом',\n",
       " 'в Алексеевском',\n",
       " 'на Арбате',\n",
       " 'в районе Аэропорт',\n",
       " 'в Бабушкинском',\n",
       " 'в Басманном',\n",
       " 'в Бескудниково',\n",
       " 'в Бибирево',\n",
       " 'в Богородском',\n",
       " 'в Братеево',\n",
       " 'в Северном Бутово',\n",
       " 'в Южном Бутово',\n",
       " 'в Бутырском',\n",
       " 'в Войковском',\n",
       " 'в Жулебино',\n",
       " 'в Гагаринском',\n",
       " 'в Головинском',\n",
       " 'в Гольяново',\n",
       " 'в Даниловском',\n",
       " 'в Донском',\n",
       " 'в Дорогомилово',\n",
       " 'в Замоскворечье',\n",
       " 'в Зюзино',\n",
       " 'в Зябликово',\n",
       " 'в Измайлово',\n",
       " 'в Северном Измайлово',\n",
       " 'в Коньково',\n",
       " 'в Коптево',\n",
       " 'в Красногорском',\n",
       " 'в Красносельском',\n",
       " 'в Крылатском',\n",
       " 'в Кузьминках',\n",
       " 'в Кунцево',\n",
       " 'в Левобережном',\n",
       " 'в Лефортово',\n",
       " 'в Люблино',\n",
       " 'в Марьиной Роще',\n",
       " 'в Марьино',\n",
       " 'в Северном Медведково',\n",
       " 'в Мещанском',\n",
       " 'в Митино',\n",
       " 'в Московском районе',\n",
       " 'в Нагатино-Садовники',\n",
       " 'в Нагатинском Затоне',\n",
       " 'в Нагорном',\n",
       " 'в Нижегородском',\n",
       " 'в Новогиреево',\n",
       " 'в Новокосино',\n",
       " 'в Обручевском',\n",
       " 'в Северном Орехово-Борисово ',\n",
       " 'в Южном Орехово-Борисово',\n",
       " 'в Останкино',\n",
       " 'в Отрадном',\n",
       " 'в Перово',\n",
       " 'в Печатнике',\n",
       " 'в Покровском-Стрешнево',\n",
       " 'в Преображенском',\n",
       " 'на Пресне',\n",
       " 'в районе Вернадского',\n",
       " 'в Раменках',\n",
       " 'в Ростокино',\n",
       " 'в Рязанском',\n",
       " 'в Савеловском',\n",
       " 'в Свиблово',\n",
       " 'в районе Сокол',\n",
       " 'на Соколиной Горе',\n",
       " 'в Сокольниках',\n",
       " 'в Строгино',\n",
       " 'на Таганке',\n",
       " 'в Тверском',\n",
       " 'в Текстильщиках',\n",
       " 'в Тимирязевском',\n",
       " 'в Тропарево-Никулино',\n",
       " 'в Северном Тушино',\n",
       " 'в Южном Тушино',\n",
       " 'в Филевском парке',\n",
       " 'в Фили-Давыдково',\n",
       " 'в Хамовниках',\n",
       " 'в Ховрино',\n",
       " 'в Хорошевском',\n",
       " 'в Царицыно',\n",
       " 'в Черемушках',\n",
       " 'в Северном Чертаново',\n",
       " 'в Центральном Чертаново',\n",
       " 'в Южном Чертаново',\n",
       " 'в Щукино',\n",
       " 'в Южнопортовом',\n",
       " 'на Якиманке',\n",
       " 'в Ясенево']"
      ]
     },
     "execution_count": 42,
     "metadata": {},
     "output_type": "execute_result"
    }
   ],
   "source": [
    "names"
   ]
  },
  {
   "cell_type": "code",
   "execution_count": 28,
   "metadata": {},
   "outputs": [
    {
     "data": {
      "text/plain": [
       "[['Академическая'],\n",
       " ['Алексеевская'],\n",
       " ['Александровский сад',\n",
       "  'Арбатская',\n",
       "  'Арбатская',\n",
       "  'Боровицкая',\n",
       "  'Смоленская',\n",
       "  'Смоленская'],\n",
       " ['Аэропорт',\n",
       "  'Динамо',\n",
       "  'Петровский парк',\n",
       "  'Петровский парк',\n",
       "  'Сокол',\n",
       "  'Петровский парк 2016 год'],\n",
       " ['Бабушкинская'],\n",
       " ['Бауманская',\n",
       "  'Курская',\n",
       "  'Курская',\n",
       "  'Чистые пруды',\n",
       "  'Чкаловская',\n",
       "  'Рубцовская 2018 год'],\n",
       " ['Верхние Лихоборы', 'Окружная', 'Селигерская'],\n",
       " ['Алтуфьево', 'Бибирево'],\n",
       " ['Белокаменная', 'Бульвар Рокоссовского', 'Бульвар Рокоссовского'],\n",
       " ['Алма-Атинская', 'Борисово'],\n",
       " ['Бульвар Дмитрия Донского', 'Улица Старокачаловская'],\n",
       " ['Бульвар адмирала Ушакова',\n",
       "  'Бунинская Аллея',\n",
       "  'Улица Горчакова',\n",
       "  'Улица Скобелевская'],\n",
       " ['Бутырская',\n",
       "  'Савеловская',\n",
       "  'Улица Милашенкова',\n",
       "  'Фонвизинская',\n",
       "  'Бутырская 2016 год',\n",
       "  'Фонвизинская 2016 год'],\n",
       " ['Балтийская', 'Войковская'],\n",
       " ['Выхино',\n",
       "  'Жулебино',\n",
       "  'Котельники',\n",
       "  'Лермонтовский проспект',\n",
       "  'Косино 2018 год',\n",
       "  'Юго-Восточная 2018 год'],\n",
       " ['Площадь Гагарина', 'Университет'],\n",
       " ['Водный стадион'],\n",
       " ['Локомотив'],\n",
       " ['Автозаводская', 'Автозаводская', 'ЗИЛ', 'Технопарк', 'Тульская'],\n",
       " ['Крымская', 'Ленинский проспект', 'Шаболовская'],\n",
       " ['Киевская',\n",
       "  'Киевская',\n",
       "  'Киевская',\n",
       "  'Кутузовская',\n",
       "  'Кутузовская',\n",
       "  'Минская',\n",
       "  'Парк Победы',\n",
       "  'Парк Победы',\n",
       "  'Студенческая',\n",
       "  'Дорогомиловская 2020 год',\n",
       "  'Минская 2016 год'],\n",
       " ['Добрынинская',\n",
       "  'Новокузнецкая',\n",
       "  'Павелецкая',\n",
       "  'Павелецкая',\n",
       "  'Серпуховская',\n",
       "  'Третьяковская',\n",
       "  'Третьяковская'],\n",
       " ['Каховская',\n",
       "  'Нахимовский Проспект',\n",
       "  'Севастопольская',\n",
       "  'Каховская 2018 год',\n",
       "  'Севастопольский проспект 2018 год'],\n",
       " ['Зябликово', 'Красногвардейская', 'Шипиловская'],\n",
       " ['Измайлово',\n",
       "  'Измайловская',\n",
       "  'Партизанская',\n",
       "  'Первомайская',\n",
       "  'Соколиная Гора'],\n",
       " ['Щелковская'],\n",
       " ['Беляево', 'Коньково'],\n",
       " ['Коптево', 'Лихоборы'],\n",
       " ['Мякинино'],\n",
       " ['Комсомольская',\n",
       "  'Комсомольская',\n",
       "  'Красносельская',\n",
       "  'Красные ворота',\n",
       "  'Сретенский бульвар',\n",
       "  'Тургеневская'],\n",
       " ['Крылатское'],\n",
       " ['Кузьминки'],\n",
       " ['Кропоткинская',\n",
       "  'Кунцевская',\n",
       "  'Кунцевская',\n",
       "  'Молодежная',\n",
       "  'Кунцевская 2018 год'],\n",
       " ['Речной вокзал', 'Беломорская улица 2020 год'],\n",
       " ['Авиамоторная', 'Авиамоторная 2018 год', 'Лефортово 2018 год'],\n",
       " ['Люблино'],\n",
       " ['Марьина роща', 'Шереметьевская 2018 год'],\n",
       " ['Братиславская', 'Марьино'],\n",
       " ['Медведково'],\n",
       " ['Кузнецкий мост',\n",
       "  'Проспект Мира',\n",
       "  'Проспект Мира',\n",
       "  'Рижская',\n",
       "  'Сухаревская',\n",
       "  'Трубная',\n",
       "  'Ржевская 2018 год'],\n",
       " ['Волоколамская', 'Митино', 'Пятницкое шоссе'],\n",
       " ['Румянцево', 'Саларьево'],\n",
       " ['Каширская', 'Каширская'],\n",
       " ['Коломенская', 'Кленовый бульвар 2018 год'],\n",
       " ['Варшавская', 'Верхние Котлы', 'Нагатинская', 'Нагорная'],\n",
       " ['Нижегородская', 'Новохохловская', 'Нижегородская улица 2018 год'],\n",
       " ['Новогиреево'],\n",
       " ['Новокосино'],\n",
       " ['Новые Черёмушки', 'Воронцовская 2018 год'],\n",
       " ['Орехово'],\n",
       " ['Домодедовская'],\n",
       " ['ВДНХ',\n",
       "  'Выставочный центр',\n",
       "  'Телецентр',\n",
       "  'Улица Академика Королёва',\n",
       "  'Улица Сергея Эйзенштейна'],\n",
       " ['Владыкино', 'Владыкино', 'Отрадное'],\n",
       " ['Андроновка', 'Перово', 'Шоссе Энтузиастов'],\n",
       " ['Печатники', 'Угрешская', 'Печатники 2018 год'],\n",
       " ['Спартак', 'Тушинская'],\n",
       " ['Преображенская площадь', 'Черкизовская'],\n",
       " ['Баррикадная',\n",
       "  'Выставочная',\n",
       "  'Деловой центр',\n",
       "  'Деловой центр',\n",
       "  'Краснопресненская',\n",
       "  'Международная',\n",
       "  'Улица 1905 года',\n",
       "  'Шелепиха',\n",
       "  'Шелепиха',\n",
       "  'Шелепиха',\n",
       "  'Деловой центр 2016 год'],\n",
       " ['Проспект Вернадского',\n",
       "  'Проспект Вернадского 2018 год',\n",
       "  'Улица Новаторов 2018 год'],\n",
       " ['Ломоносовский проспект',\n",
       "  'Раменки',\n",
       "  'Ломоносовский проспект 2016 год',\n",
       "  'Мичуринский проспект 2018 год',\n",
       "  'Раменки 2016 год'],\n",
       " ['Ботанический сад', 'Ростокино'],\n",
       " ['Рязанский проспект', 'Окская улица 2018 год', 'Стахановская 2018 год'],\n",
       " ['Дмитровская', 'Нижняя Масловка 2018 год'],\n",
       " ['Ботанический сад', 'Свиблово'],\n",
       " ['Панфиловская', 'Стрешнево'],\n",
       " ['Семеновская', 'Шоссе Энтузиастов', 'Электрозаводская'],\n",
       " ['Сокольники', 'Стромынка 2018 год'],\n",
       " ['Строгино'],\n",
       " ['Крестьянская застава',\n",
       "  'Марксистская',\n",
       "  'Площадь Ильича',\n",
       "  'Пролетарская',\n",
       "  'Римская',\n",
       "  'Таганская',\n",
       "  'Таганская'],\n",
       " ['Белорусская',\n",
       "  'Белорусская',\n",
       "  'Библиотека имени Ленина',\n",
       "  'Достоевская',\n",
       "  'Китай-город',\n",
       "  'Китай-город',\n",
       "  'Лубянка',\n",
       "  'Маяковская',\n",
       "  'Менделеевская',\n",
       "  'Новослободская',\n",
       "  'Охотный ряд',\n",
       "  'Площадь Революции',\n",
       "  'Пушкинская',\n",
       "  'Тверская',\n",
       "  'Театральная',\n",
       "  'Цветной бульвар',\n",
       "  'Чеховская'],\n",
       " ['Волжская', 'Текстильщики', 'Текстильщики 2018 год'],\n",
       " ['Окружная',\n",
       "  'Петровско-Разумовская',\n",
       "  'Петровско-Разумовская',\n",
       "  'Тимирязевская',\n",
       "  'Тимирязевская',\n",
       "  'Петровско-Разумовская 2016 год'],\n",
       " ['Тропарёво', 'Юго-Западная'],\n",
       " ['Планерная'],\n",
       " ['Сходненская'],\n",
       " ['Багратионовская', 'Филевский парк', 'Фили'],\n",
       " ['Пионерская', 'Славянский бульвар'],\n",
       " ['Воробьевы горы',\n",
       "  'Лужники',\n",
       "  'Парк Культуры',\n",
       "  'Парк Культуры',\n",
       "  'Спортивная',\n",
       "  'Фрунзенская',\n",
       "  'Волхонка 2020 год',\n",
       "  'Плющиха 2020 год'],\n",
       " ['Ховрино', 'Ховрино 2016 год'],\n",
       " ['Беговая',\n",
       "  'Зорге',\n",
       "  'Полежаевская',\n",
       "  'Хорошёво',\n",
       "  'Хорошёвская',\n",
       "  'Хорошёвская',\n",
       "  'ЦСКА',\n",
       "  'ЦСКА'],\n",
       " ['Кантемировская', 'Царицыно'],\n",
       " ['Калужская', 'Профсоюзная'],\n",
       " ['Чертановская', 'Южная'],\n",
       " ['Пражская'],\n",
       " ['Аннино', 'Лесопарковая', 'Улица академика Янгеля'],\n",
       " ['Октябрьское поле', 'Щукинская'],\n",
       " ['Волгоградский проспект', 'Дубровка', 'Дубровка', 'Кожуховская'],\n",
       " ['Октябрьская', 'Октябрьская', 'Полянка'],\n",
       " ['Битцевский парк', 'Новоясеневская', 'Теплый стан', 'Ясенево']]"
      ]
     },
     "execution_count": 28,
     "metadata": {},
     "output_type": "execute_result"
    }
   ],
   "source": [
    "metro"
   ]
  },
  {
   "cell_type": "markdown",
   "metadata": {},
   "source": [
    "Разбираемся с районами"
   ]
  },
  {
   "cell_type": "code",
   "execution_count": 52,
   "metadata": {
    "collapsed": true
   },
   "outputs": [],
   "source": [
    "import geopandas as gpd\n",
    "import matplotlib.pyplot as plt\n",
    "import numpy as np"
   ]
  },
  {
   "cell_type": "code",
   "execution_count": 55,
   "metadata": {},
   "outputs": [
    {
     "ename": "OSError",
     "evalue": "no such file or directory: 'Users/anton/Downloads/demography/demography.shp'",
     "output_type": "error",
     "traceback": [
      "\u001b[0;31m---------------------------------------------------------------------------\u001b[0m",
      "\u001b[0;31mOSError\u001b[0m                                   Traceback (most recent call last)",
      "\u001b[0;32m<ipython-input-55-e25a697fb038>\u001b[0m in \u001b[0;36m<module>\u001b[0;34m()\u001b[0m\n\u001b[0;32m----> 1\u001b[0;31m \u001b[0mmo_gdf\u001b[0m \u001b[0;34m=\u001b[0m \u001b[0mgpd\u001b[0m\u001b[0;34m.\u001b[0m\u001b[0mread_file\u001b[0m\u001b[0;34m(\u001b[0m\u001b[0;34m'Users/anton/Downloads/demography/demography.shp'\u001b[0m\u001b[0;34m,\u001b[0m  \u001b[0mencoding\u001b[0m\u001b[0;34m=\u001b[0m\u001b[0;34m\"windows-1251\"\u001b[0m\u001b[0;34m)\u001b[0m\u001b[0;34m\u001b[0m\u001b[0m\n\u001b[0m\u001b[1;32m      2\u001b[0m \u001b[0mmo_gdf\u001b[0m \u001b[0;34m=\u001b[0m \u001b[0mmo_gdf\u001b[0m\u001b[0;34m.\u001b[0m\u001b[0mdrop\u001b[0m\u001b[0;34m(\u001b[0m\u001b[0mlist\u001b[0m\u001b[0;34m(\u001b[0m\u001b[0mmo_gdf\u001b[0m\u001b[0;34m.\u001b[0m\u001b[0mcolumns\u001b[0m\u001b[0;34m[\u001b[0m\u001b[0;36m2\u001b[0m\u001b[0;34m:\u001b[0m\u001b[0;36m13\u001b[0m\u001b[0;34m]\u001b[0m\u001b[0;34m)\u001b[0m\u001b[0;34m,\u001b[0m \u001b[0maxis\u001b[0m\u001b[0;34m=\u001b[0m\u001b[0;36m1\u001b[0m\u001b[0;34m)\u001b[0m\u001b[0;34m\u001b[0m\u001b[0m\n\u001b[1;32m      3\u001b[0m \u001b[0mmo_gdf\u001b[0m\u001b[0;34m.\u001b[0m\u001b[0mhead\u001b[0m\u001b[0;34m(\u001b[0m\u001b[0;34m)\u001b[0m\u001b[0;34m\u001b[0m\u001b[0m\n",
      "\u001b[0;32m/Users/anton/anaconda/lib/python3.6/site-packages/geopandas/io/file.py\u001b[0m in \u001b[0;36mread_file\u001b[0;34m(filename, **kwargs)\u001b[0m\n\u001b[1;32m     17\u001b[0m     \"\"\"\n\u001b[1;32m     18\u001b[0m     \u001b[0mbbox\u001b[0m \u001b[0;34m=\u001b[0m \u001b[0mkwargs\u001b[0m\u001b[0;34m.\u001b[0m\u001b[0mpop\u001b[0m\u001b[0;34m(\u001b[0m\u001b[0;34m'bbox'\u001b[0m\u001b[0;34m,\u001b[0m \u001b[0;32mNone\u001b[0m\u001b[0;34m)\u001b[0m\u001b[0;34m\u001b[0m\u001b[0m\n\u001b[0;32m---> 19\u001b[0;31m     \u001b[0;32mwith\u001b[0m \u001b[0mfiona\u001b[0m\u001b[0;34m.\u001b[0m\u001b[0mopen\u001b[0m\u001b[0;34m(\u001b[0m\u001b[0mfilename\u001b[0m\u001b[0;34m,\u001b[0m \u001b[0;34m**\u001b[0m\u001b[0mkwargs\u001b[0m\u001b[0;34m)\u001b[0m \u001b[0;32mas\u001b[0m \u001b[0mf\u001b[0m\u001b[0;34m:\u001b[0m\u001b[0;34m\u001b[0m\u001b[0m\n\u001b[0m\u001b[1;32m     20\u001b[0m         \u001b[0mcrs\u001b[0m \u001b[0;34m=\u001b[0m \u001b[0mf\u001b[0m\u001b[0;34m.\u001b[0m\u001b[0mcrs\u001b[0m\u001b[0;34m\u001b[0m\u001b[0m\n\u001b[1;32m     21\u001b[0m         \u001b[0;32mif\u001b[0m \u001b[0mbbox\u001b[0m \u001b[0;32mis\u001b[0m \u001b[0;32mnot\u001b[0m \u001b[0;32mNone\u001b[0m\u001b[0;34m:\u001b[0m\u001b[0;34m\u001b[0m\u001b[0m\n",
      "\u001b[0;32m/Users/anton/anaconda/lib/python3.6/site-packages/fiona/__init__.py\u001b[0m in \u001b[0;36mopen\u001b[0;34m(path, mode, driver, schema, crs, encoding, layer, vfs, enabled_drivers, crs_wkt)\u001b[0m\n\u001b[1;32m    160\u001b[0m                 \u001b[0;32mraise\u001b[0m \u001b[0mIOError\u001b[0m\u001b[0;34m(\u001b[0m\u001b[0;34m\"no such archive file: %r\"\u001b[0m \u001b[0;34m%\u001b[0m \u001b[0marchive\u001b[0m\u001b[0;34m)\u001b[0m\u001b[0;34m\u001b[0m\u001b[0m\n\u001b[1;32m    161\u001b[0m         \u001b[0;32melif\u001b[0m \u001b[0mpath\u001b[0m \u001b[0;34m!=\u001b[0m \u001b[0;34m'-'\u001b[0m \u001b[0;32mand\u001b[0m \u001b[0;32mnot\u001b[0m \u001b[0mos\u001b[0m\u001b[0;34m.\u001b[0m\u001b[0mpath\u001b[0m\u001b[0;34m.\u001b[0m\u001b[0mexists\u001b[0m\u001b[0;34m(\u001b[0m\u001b[0mpath\u001b[0m\u001b[0;34m)\u001b[0m\u001b[0;34m:\u001b[0m\u001b[0;34m\u001b[0m\u001b[0m\n\u001b[0;32m--> 162\u001b[0;31m             \u001b[0;32mraise\u001b[0m \u001b[0mIOError\u001b[0m\u001b[0;34m(\u001b[0m\u001b[0;34m\"no such file or directory: %r\"\u001b[0m \u001b[0;34m%\u001b[0m \u001b[0mpath\u001b[0m\u001b[0;34m)\u001b[0m\u001b[0;34m\u001b[0m\u001b[0m\n\u001b[0m\u001b[1;32m    163\u001b[0m         c = Collection(path, mode, driver=driver, encoding=encoding,\n\u001b[1;32m    164\u001b[0m                        \u001b[0mlayer\u001b[0m\u001b[0;34m=\u001b[0m\u001b[0mlayer\u001b[0m\u001b[0;34m,\u001b[0m \u001b[0mvsi\u001b[0m\u001b[0;34m=\u001b[0m\u001b[0mvsi\u001b[0m\u001b[0;34m,\u001b[0m \u001b[0marchive\u001b[0m\u001b[0;34m=\u001b[0m\u001b[0marchive\u001b[0m\u001b[0;34m,\u001b[0m\u001b[0;34m\u001b[0m\u001b[0m\n",
      "\u001b[0;31mOSError\u001b[0m: no such file or directory: 'Users/anton/Downloads/demography/demography.shp'"
     ]
    }
   ],
   "source": [
    "mo_gdf = gpd.read_file('Users/anton/Downloads/demography/demography.shp',  encoding=\"windows-1251\")\n",
    "mo_gdf = mo_gdf.drop(list(mo_gdf.columns[2:13]), axis=1)\n",
    "mo_gdf.head()"
   ]
  },
  {
   "cell_type": "code",
   "execution_count": null,
   "metadata": {
    "collapsed": true
   },
   "outputs": [],
   "source": []
  }
 ],
 "metadata": {
  "kernelspec": {
   "display_name": "Python 3",
   "language": "python",
   "name": "python3"
  },
  "language_info": {
   "codemirror_mode": {
    "name": "ipython",
    "version": 3
   },
   "file_extension": ".py",
   "mimetype": "text/x-python",
   "name": "python",
   "nbconvert_exporter": "python",
   "pygments_lexer": "ipython3",
   "version": "3.6.1"
  }
 },
 "nbformat": 4,
 "nbformat_minor": 2
}
